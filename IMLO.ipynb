{
  "nbformat": 4,
  "nbformat_minor": 0,
  "metadata": {
    "colab": {
      "provenance": [],
      "machine_shape": "hm",
      "gpuType": "A100",
      "authorship_tag": "ABX9TyO1qHqmah0avRlUffeMVJN+",
      "include_colab_link": true
    },
    "kernelspec": {
      "name": "python3",
      "display_name": "Python 3"
    },
    "language_info": {
      "name": "python"
    },
    "accelerator": "GPU"
  },
  "cells": [
    {
      "cell_type": "markdown",
      "metadata": {
        "id": "view-in-github",
        "colab_type": "text"
      },
      "source": [
        "<a href=\"https://colab.research.google.com/github/riadYoork/IMLO_exam/blob/main/IMLO.ipynb\" target=\"_parent\"><img src=\"https://colab.research.google.com/assets/colab-badge.svg\" alt=\"Open In Colab\"/></a>"
      ]
    },
    {
      "cell_type": "code",
      "execution_count": 2,
      "metadata": {
        "colab": {
          "base_uri": "https://localhost:8080/"
        },
        "id": "8KCdFY39Bh9_",
        "outputId": "e7538a3f-2def-4248-fcce-19fe957794a5"
      },
      "outputs": [
        {
          "output_type": "stream",
          "name": "stdout",
          "text": [
            "Downloading https://thor.robots.ox.ac.uk/datasets/flowers-102/102flowers.tgz to data/flowers-102/102flowers.tgz\n"
          ]
        },
        {
          "output_type": "stream",
          "name": "stderr",
          "text": [
            "100%|██████████| 344862509/344862509 [00:23<00:00, 14482513.39it/s]\n"
          ]
        },
        {
          "output_type": "stream",
          "name": "stdout",
          "text": [
            "Extracting data/flowers-102/102flowers.tgz to data/flowers-102\n",
            "Downloading https://thor.robots.ox.ac.uk/datasets/flowers-102/imagelabels.mat to data/flowers-102/imagelabels.mat\n"
          ]
        },
        {
          "output_type": "stream",
          "name": "stderr",
          "text": [
            "100%|██████████| 502/502 [00:00<00:00, 743219.42it/s]\n"
          ]
        },
        {
          "output_type": "stream",
          "name": "stdout",
          "text": [
            "Downloading https://thor.robots.ox.ac.uk/datasets/flowers-102/setid.mat to data/flowers-102/setid.mat\n"
          ]
        },
        {
          "output_type": "stream",
          "name": "stderr",
          "text": [
            "100%|██████████| 14989/14989 [00:00<00:00, 18345031.41it/s]\n"
          ]
        }
      ],
      "source": [
        "import torch\n",
        "import torch.nn as nn\n",
        "import torch.optim as optim\n",
        "from torchvision import datasets, transforms\n",
        "from torch.utils.data import DataLoader\n",
        "from tqdm import tqdm\n",
        "\n",
        "# Define image dimension\n",
        "im_dimension = 224\n",
        "\n",
        "# Define data transforms\n",
        "data_transforms = {\n",
        "    'train': transforms.Compose([\n",
        "        transforms.Resize((im_dimension, im_dimension)),\n",
        "        transforms.CenterCrop(im_dimension),\n",
        "        transforms.RandomRotation(15),\n",
        "        transforms.RandomHorizontalFlip(),\n",
        "        transforms.ToTensor(),\n",
        "        transforms.Normalize(mean=[0.485, 0.456, 0.406], std=[0.229, 0.224, 0.225])\n",
        "    ]),\n",
        "    'valid': transforms.Compose([\n",
        "        transforms.Resize((im_dimension, im_dimension)),\n",
        "        transforms.CenterCrop(im_dimension),\n",
        "        transforms.ToTensor(),\n",
        "        transforms.Normalize(mean=[0.485, 0.456, 0.406], std=[0.229, 0.224, 0.225])\n",
        "    ]),\n",
        "    'test': transforms.Compose([\n",
        "        transforms.Resize((im_dimension, im_dimension)),\n",
        "        transforms.CenterCrop(im_dimension),\n",
        "        transforms.ToTensor(),\n",
        "        transforms.Normalize(mean=[0.485, 0.456, 0.406], std=[0.229, 0.224, 0.225])\n",
        "    ]),\n",
        "}\n",
        "\n",
        "# Define datasets\n",
        "data_dir = './data'\n",
        "train_dataset = datasets.Flowers102(root=data_dir, split='train', download=True, transform=data_transforms['train'])\n",
        "valid_dataset = datasets.Flowers102(root=data_dir, split='val', download=True, transform=data_transforms['valid'])\n",
        "test_dataset = datasets.Flowers102(root=data_dir, split='test', download=True, transform=data_transforms['test'])\n",
        "\n",
        "# Define data loaders\n",
        "train_loader = DataLoader(train_dataset, batch_size=32, shuffle=True, num_workers=4, pin_memory=True)\n",
        "valid_loader = DataLoader(valid_dataset, batch_size=32, shuffle=False, num_workers=4, pin_memory=True)\n",
        "test_loader = DataLoader(test_dataset, batch_size=32, shuffle=False, num_workers=4, pin_memory=True)\n"
      ]
    },
    {
      "cell_type": "code",
      "source": [
        "\n",
        "# Device configuration\n",
        "device = torch.device(\"cuda\" if torch.cuda.is_available() else \"cpu\")\n",
        "\n",
        "class AdvancedFlowerNet(nn.Module):\n",
        "    def __init__(self):\n",
        "        super().__init__()\n",
        "        self.Linear1 = nn.Linear(3456, 1728)\n",
        "        self.Linear2 = nn.Linear(1728, 102)\n",
        "        self.Dropout = nn.Dropout(0.07)\n",
        "        self.Conv1 = nn.Conv2d(3, 128, 5, 2)\n",
        "        self.BNorm1 = nn.BatchNorm2d(128)\n",
        "        self.Conv2 = nn.Conv2d(128, 256, 5, 2)\n",
        "        self.BNorm2 = nn.BatchNorm2d(256)\n",
        "        self.Conv3 = nn.Conv2d(256, 384, 5, 1)\n",
        "        self.BNorm3 = nn.BatchNorm2d(384)\n",
        "        self.Conv4 = nn.Conv2d(384, 384, 5, 1)\n",
        "        self.BNorm4 = nn.BatchNorm2d(384)\n",
        "        self.Conv5 = nn.Conv2d(384, 384, 5, 1)\n",
        "        self.BNorm5 = nn.BatchNorm2d(384)\n",
        "        self.Pool = nn.MaxPool2d((2, 2), (2, 2))\n",
        "        self.ReLU = nn.ReLU()\n",
        "\n",
        "    def forward(self, x):\n",
        "        x = self.ReLU(self.BNorm1(self.Conv1(x)))\n",
        "        x = self.Pool(x)\n",
        "        x = self.ReLU(self.BNorm2(self.Conv2(x)))\n",
        "        x = self.Dropout(x)\n",
        "        x = self.ReLU(self.BNorm3(self.Conv3(x)))\n",
        "        x = self.Pool(x)\n",
        "        x = self.ReLU(self.BNorm4(self.Conv4(x)))\n",
        "        x = self.Dropout(x)\n",
        "        x = self.ReLU(self.BNorm5(self.Conv5(x)))\n",
        "        x = x.reshape(-1, 3456)\n",
        "        x = self.ReLU(self.Linear1(x))\n",
        "        x = self.Linear2(x)\n",
        "        return x\n",
        "\n"
      ],
      "metadata": {
        "id": "e1e-OUE-Bxhq"
      },
      "execution_count": 3,
      "outputs": []
    },
    {
      "cell_type": "code",
      "source": [
        "# Initialize the model\n",
        "model = AdvancedFlowerNet().to(device)\n",
        "\n",
        "# Loss and optimizer\n",
        "criterion = nn.CrossEntropyLoss()\n",
        "optimizer = optim.Adam(model.parameters(), lr=0.0001, weight_decay=0.01)\n",
        "\n",
        "# Add the learning rate scheduler\n",
        "scheduler = optim.lr_scheduler.StepLR(optimizer, step_size=30, gamma=0.9)\n"
      ],
      "metadata": {
        "id": "FUkOjppdBxr2"
      },
      "execution_count": 4,
      "outputs": []
    },
    {
      "cell_type": "code",
      "source": [
        "import torch\n",
        "from tqdm import tqdm\n",
        "\n",
        "\n",
        "\n",
        "best_val_accuracy = 0\n",
        "patience_counter = 0\n",
        "early_stopping_patience = 10\n",
        "\n",
        "def evaluate(loader):\n",
        "    model.eval()\n",
        "    correct = 0\n",
        "    total = 0\n",
        "    running_loss = 0\n",
        "    with torch.no_grad():\n",
        "        for images, labels in loader:\n",
        "            images, labels = images.to(device), labels.to(device)\n",
        "            outputs = model(images)\n",
        "            loss = criterion(outputs, labels)\n",
        "            running_loss += loss.item()\n",
        "            _, predicted = torch.max(outputs.data, 1)\n",
        "            total += labels.size(0)\n",
        "            correct += (predicted == labels).sum().item()\n",
        "    avg_loss = running_loss / len(loader)\n",
        "    accuracy = 100 * correct / total\n",
        "    return avg_loss, accuracy\n",
        "\n",
        "def train_loop(epochs):\n",
        "    global best_val_accuracy, patience_counter\n",
        "    for epoch in range(epochs):\n",
        "        model.train()\n",
        "        running_loss = 0\n",
        "        for images, labels in tqdm(train_loader, desc=f\"Epoch {epoch+1}/{epochs}\", leave=False):\n",
        "            images, labels = images.to(device), labels.to(device)\n",
        "            optimizer.zero_grad()\n",
        "            outputs = model(images)\n",
        "            loss = criterion(outputs, labels)\n",
        "            loss.backward()\n",
        "            optimizer.step()\n",
        "            running_loss += loss.item()\n",
        "\n",
        "        val_loss, val_accuracy = evaluate(valid_loader)\n",
        "        print(f'Epoch {epoch+1}/{epochs}, Train Loss: {running_loss/len(train_loader):.4f}, Val Loss: {val_loss:.4f}, Val Accuracy: {val_accuracy:.2f}%')\n",
        "\n",
        "        scheduler.step(val_loss)\n",
        "\n",
        "        # Save the best model in sample_data directory\n",
        "        if val_accuracy > best_val_accuracy:\n",
        "            best_val_accuracy = val_accuracy\n",
        "            torch.save(model.state_dict(), '/content/sample_data/best_model.pth')\n",
        "            print(f'Saved Best Model with Validation Accuracy: {best_val_accuracy:.2f}%')\n",
        "            patience_counter = 0\n",
        "        else:\n",
        "            patience_counter += 1\n",
        "\n",
        "\n",
        "def test_loop():\n",
        "    model.load_state_dict(torch.load('/content/sample_data/best_model.pth'))\n",
        "    model.to(device)\n",
        "    test_loss, test_accuracy = evaluate(test_loader)\n",
        "    print(f'Final Test Loss: {test_loss:.4f}, Final Test Accuracy: {test_accuracy:.2f}%')\n",
        "\n",
        "train_loop(600)\n",
        "test_loop()\n"
      ],
      "metadata": {
        "colab": {
          "base_uri": "https://localhost:8080/"
        },
        "id": "7TfMstk0Bx2x",
        "outputId": "9f4561df-caf5-432b-dbd0-3cc8e11ed899"
      },
      "execution_count": 5,
      "outputs": [
        {
          "output_type": "stream",
          "name": "stderr",
          "text": [
            "/usr/local/lib/python3.10/dist-packages/torch/optim/lr_scheduler.py:156: UserWarning: The epoch parameter in `scheduler.step()` was not necessary and is being deprecated where possible. Please use `scheduler.step()` to step the scheduler. During the deprecation, if epoch is different from None, the closed form is used instead of the new chainable form, where available. Please open an issue if you are unable to replicate your use case: https://github.com/pytorch/pytorch/issues/new/choose.\n",
            "  warnings.warn(EPOCH_DEPRECATION_WARNING, UserWarning)\n"
          ]
        },
        {
          "output_type": "stream",
          "name": "stdout",
          "text": [
            "Epoch 1/600, Train Loss: 4.3859, Val Loss: 3.9151, Val Accuracy: 9.31%\n",
            "Saved Best Model with Validation Accuracy: 9.31%\n"
          ]
        },
        {
          "output_type": "stream",
          "name": "stderr",
          "text": []
        },
        {
          "output_type": "stream",
          "name": "stdout",
          "text": [
            "Epoch 2/600, Train Loss: 3.6481, Val Loss: 3.4601, Val Accuracy: 16.18%\n",
            "Saved Best Model with Validation Accuracy: 16.18%\n"
          ]
        },
        {
          "output_type": "stream",
          "name": "stderr",
          "text": []
        },
        {
          "output_type": "stream",
          "name": "stdout",
          "text": [
            "Epoch 3/600, Train Loss: 3.1292, Val Loss: 3.3214, Val Accuracy: 17.25%\n",
            "Saved Best Model with Validation Accuracy: 17.25%\n"
          ]
        },
        {
          "output_type": "stream",
          "name": "stderr",
          "text": []
        },
        {
          "output_type": "stream",
          "name": "stdout",
          "text": [
            "Epoch 4/600, Train Loss: 2.7721, Val Loss: 3.1716, Val Accuracy: 20.78%\n",
            "Saved Best Model with Validation Accuracy: 20.78%\n"
          ]
        },
        {
          "output_type": "stream",
          "name": "stderr",
          "text": []
        },
        {
          "output_type": "stream",
          "name": "stdout",
          "text": [
            "Epoch 5/600, Train Loss: 2.4963, Val Loss: 2.9614, Val Accuracy: 24.02%\n",
            "Saved Best Model with Validation Accuracy: 24.02%\n"
          ]
        },
        {
          "output_type": "stream",
          "name": "stderr",
          "text": []
        },
        {
          "output_type": "stream",
          "name": "stdout",
          "text": [
            "Epoch 6/600, Train Loss: 2.2315, Val Loss: 2.9289, Val Accuracy: 26.18%\n",
            "Saved Best Model with Validation Accuracy: 26.18%\n"
          ]
        },
        {
          "output_type": "stream",
          "name": "stderr",
          "text": []
        },
        {
          "output_type": "stream",
          "name": "stdout",
          "text": [
            "Epoch 7/600, Train Loss: 1.9888, Val Loss: 2.7202, Val Accuracy: 31.96%\n",
            "Saved Best Model with Validation Accuracy: 31.96%\n"
          ]
        },
        {
          "output_type": "stream",
          "name": "stderr",
          "text": []
        },
        {
          "output_type": "stream",
          "name": "stdout",
          "text": [
            "Epoch 8/600, Train Loss: 1.7867, Val Loss: 2.6340, Val Accuracy: 34.22%\n",
            "Saved Best Model with Validation Accuracy: 34.22%\n"
          ]
        },
        {
          "output_type": "stream",
          "name": "stderr",
          "text": []
        },
        {
          "output_type": "stream",
          "name": "stdout",
          "text": [
            "Epoch 9/600, Train Loss: 1.4898, Val Loss: 2.5995, Val Accuracy: 34.31%\n",
            "Saved Best Model with Validation Accuracy: 34.31%\n"
          ]
        },
        {
          "output_type": "stream",
          "name": "stderr",
          "text": []
        },
        {
          "output_type": "stream",
          "name": "stdout",
          "text": [
            "Epoch 10/600, Train Loss: 1.3174, Val Loss: 2.4222, Val Accuracy: 39.61%\n",
            "Saved Best Model with Validation Accuracy: 39.61%\n"
          ]
        },
        {
          "output_type": "stream",
          "name": "stderr",
          "text": []
        },
        {
          "output_type": "stream",
          "name": "stdout",
          "text": [
            "Epoch 11/600, Train Loss: 1.2052, Val Loss: 2.4914, Val Accuracy: 40.20%\n",
            "Saved Best Model with Validation Accuracy: 40.20%\n"
          ]
        },
        {
          "output_type": "stream",
          "name": "stderr",
          "text": []
        },
        {
          "output_type": "stream",
          "name": "stdout",
          "text": [
            "Epoch 12/600, Train Loss: 1.0275, Val Loss: 2.4430, Val Accuracy: 39.71%\n"
          ]
        },
        {
          "output_type": "stream",
          "name": "stderr",
          "text": []
        },
        {
          "output_type": "stream",
          "name": "stdout",
          "text": [
            "Epoch 13/600, Train Loss: 0.8531, Val Loss: 2.4108, Val Accuracy: 41.57%\n",
            "Saved Best Model with Validation Accuracy: 41.57%\n"
          ]
        },
        {
          "output_type": "stream",
          "name": "stderr",
          "text": []
        },
        {
          "output_type": "stream",
          "name": "stdout",
          "text": [
            "Epoch 14/600, Train Loss: 0.7742, Val Loss: 2.4638, Val Accuracy: 39.02%\n"
          ]
        },
        {
          "output_type": "stream",
          "name": "stderr",
          "text": []
        },
        {
          "output_type": "stream",
          "name": "stdout",
          "text": [
            "Epoch 15/600, Train Loss: 0.6426, Val Loss: 2.3472, Val Accuracy: 40.78%\n"
          ]
        },
        {
          "output_type": "stream",
          "name": "stderr",
          "text": []
        },
        {
          "output_type": "stream",
          "name": "stdout",
          "text": [
            "Epoch 16/600, Train Loss: 0.5276, Val Loss: 2.3499, Val Accuracy: 42.25%\n",
            "Saved Best Model with Validation Accuracy: 42.25%\n"
          ]
        },
        {
          "output_type": "stream",
          "name": "stderr",
          "text": []
        },
        {
          "output_type": "stream",
          "name": "stdout",
          "text": [
            "Epoch 17/600, Train Loss: 0.4579, Val Loss: 2.2402, Val Accuracy: 44.80%\n",
            "Saved Best Model with Validation Accuracy: 44.80%\n"
          ]
        },
        {
          "output_type": "stream",
          "name": "stderr",
          "text": []
        },
        {
          "output_type": "stream",
          "name": "stdout",
          "text": [
            "Epoch 18/600, Train Loss: 0.4005, Val Loss: 2.2850, Val Accuracy: 45.29%\n",
            "Saved Best Model with Validation Accuracy: 45.29%\n"
          ]
        },
        {
          "output_type": "stream",
          "name": "stderr",
          "text": []
        },
        {
          "output_type": "stream",
          "name": "stdout",
          "text": [
            "Epoch 19/600, Train Loss: 0.3786, Val Loss: 2.3857, Val Accuracy: 43.73%\n"
          ]
        },
        {
          "output_type": "stream",
          "name": "stderr",
          "text": []
        },
        {
          "output_type": "stream",
          "name": "stdout",
          "text": [
            "Epoch 20/600, Train Loss: 0.2943, Val Loss: 2.2036, Val Accuracy: 48.04%\n",
            "Saved Best Model with Validation Accuracy: 48.04%\n"
          ]
        },
        {
          "output_type": "stream",
          "name": "stderr",
          "text": []
        },
        {
          "output_type": "stream",
          "name": "stdout",
          "text": [
            "Epoch 21/600, Train Loss: 0.2677, Val Loss: 2.2521, Val Accuracy: 47.35%\n"
          ]
        },
        {
          "output_type": "stream",
          "name": "stderr",
          "text": []
        },
        {
          "output_type": "stream",
          "name": "stdout",
          "text": [
            "Epoch 22/600, Train Loss: 0.2358, Val Loss: 2.1842, Val Accuracy: 48.33%\n",
            "Saved Best Model with Validation Accuracy: 48.33%\n"
          ]
        },
        {
          "output_type": "stream",
          "name": "stderr",
          "text": []
        },
        {
          "output_type": "stream",
          "name": "stdout",
          "text": [
            "Epoch 23/600, Train Loss: 0.2037, Val Loss: 2.1918, Val Accuracy: 47.75%\n"
          ]
        },
        {
          "output_type": "stream",
          "name": "stderr",
          "text": []
        },
        {
          "output_type": "stream",
          "name": "stdout",
          "text": [
            "Epoch 24/600, Train Loss: 0.1643, Val Loss: 2.1164, Val Accuracy: 49.12%\n",
            "Saved Best Model with Validation Accuracy: 49.12%\n"
          ]
        },
        {
          "output_type": "stream",
          "name": "stderr",
          "text": []
        },
        {
          "output_type": "stream",
          "name": "stdout",
          "text": [
            "Epoch 25/600, Train Loss: 0.1513, Val Loss: 2.1356, Val Accuracy: 48.82%\n"
          ]
        },
        {
          "output_type": "stream",
          "name": "stderr",
          "text": []
        },
        {
          "output_type": "stream",
          "name": "stdout",
          "text": [
            "Epoch 26/600, Train Loss: 0.1385, Val Loss: 2.1783, Val Accuracy: 48.63%\n"
          ]
        },
        {
          "output_type": "stream",
          "name": "stderr",
          "text": []
        },
        {
          "output_type": "stream",
          "name": "stdout",
          "text": [
            "Epoch 27/600, Train Loss: 0.1358, Val Loss: 2.1683, Val Accuracy: 47.75%\n"
          ]
        },
        {
          "output_type": "stream",
          "name": "stderr",
          "text": []
        },
        {
          "output_type": "stream",
          "name": "stdout",
          "text": [
            "Epoch 28/600, Train Loss: 0.1278, Val Loss: 2.1208, Val Accuracy: 47.45%\n"
          ]
        },
        {
          "output_type": "stream",
          "name": "stderr",
          "text": []
        },
        {
          "output_type": "stream",
          "name": "stdout",
          "text": [
            "Epoch 29/600, Train Loss: 0.1328, Val Loss: 2.0930, Val Accuracy: 50.10%\n",
            "Saved Best Model with Validation Accuracy: 50.10%\n"
          ]
        },
        {
          "output_type": "stream",
          "name": "stderr",
          "text": []
        },
        {
          "output_type": "stream",
          "name": "stdout",
          "text": [
            "Epoch 30/600, Train Loss: 0.1275, Val Loss: 2.0969, Val Accuracy: 49.90%\n"
          ]
        },
        {
          "output_type": "stream",
          "name": "stderr",
          "text": []
        },
        {
          "output_type": "stream",
          "name": "stdout",
          "text": [
            "Epoch 31/600, Train Loss: 0.1497, Val Loss: 2.1216, Val Accuracy: 49.51%\n"
          ]
        },
        {
          "output_type": "stream",
          "name": "stderr",
          "text": []
        },
        {
          "output_type": "stream",
          "name": "stdout",
          "text": [
            "Epoch 32/600, Train Loss: 0.1839, Val Loss: 2.1777, Val Accuracy: 46.76%\n"
          ]
        },
        {
          "output_type": "stream",
          "name": "stderr",
          "text": []
        },
        {
          "output_type": "stream",
          "name": "stdout",
          "text": [
            "Epoch 33/600, Train Loss: 0.2010, Val Loss: 2.1668, Val Accuracy: 48.82%\n"
          ]
        },
        {
          "output_type": "stream",
          "name": "stderr",
          "text": []
        },
        {
          "output_type": "stream",
          "name": "stdout",
          "text": [
            "Epoch 34/600, Train Loss: 0.2482, Val Loss: 2.3448, Val Accuracy: 46.76%\n"
          ]
        },
        {
          "output_type": "stream",
          "name": "stderr",
          "text": []
        },
        {
          "output_type": "stream",
          "name": "stdout",
          "text": [
            "Epoch 35/600, Train Loss: 0.2341, Val Loss: 2.1371, Val Accuracy: 49.22%\n"
          ]
        },
        {
          "output_type": "stream",
          "name": "stderr",
          "text": []
        },
        {
          "output_type": "stream",
          "name": "stdout",
          "text": [
            "Epoch 36/600, Train Loss: 0.1748, Val Loss: 2.1526, Val Accuracy: 49.80%\n"
          ]
        },
        {
          "output_type": "stream",
          "name": "stderr",
          "text": []
        },
        {
          "output_type": "stream",
          "name": "stdout",
          "text": [
            "Epoch 37/600, Train Loss: 0.1535, Val Loss: 2.0664, Val Accuracy: 50.49%\n",
            "Saved Best Model with Validation Accuracy: 50.49%\n"
          ]
        },
        {
          "output_type": "stream",
          "name": "stderr",
          "text": []
        },
        {
          "output_type": "stream",
          "name": "stdout",
          "text": [
            "Epoch 38/600, Train Loss: 0.1470, Val Loss: 2.0457, Val Accuracy: 50.59%\n",
            "Saved Best Model with Validation Accuracy: 50.59%\n"
          ]
        },
        {
          "output_type": "stream",
          "name": "stderr",
          "text": []
        },
        {
          "output_type": "stream",
          "name": "stdout",
          "text": [
            "Epoch 39/600, Train Loss: 0.0982, Val Loss: 1.9753, Val Accuracy: 52.55%\n",
            "Saved Best Model with Validation Accuracy: 52.55%\n"
          ]
        },
        {
          "output_type": "stream",
          "name": "stderr",
          "text": []
        },
        {
          "output_type": "stream",
          "name": "stdout",
          "text": [
            "Epoch 40/600, Train Loss: 0.0878, Val Loss: 2.0038, Val Accuracy: 50.78%\n"
          ]
        },
        {
          "output_type": "stream",
          "name": "stderr",
          "text": []
        },
        {
          "output_type": "stream",
          "name": "stdout",
          "text": [
            "Epoch 41/600, Train Loss: 0.0789, Val Loss: 1.9678, Val Accuracy: 52.75%\n",
            "Saved Best Model with Validation Accuracy: 52.75%\n"
          ]
        },
        {
          "output_type": "stream",
          "name": "stderr",
          "text": []
        },
        {
          "output_type": "stream",
          "name": "stdout",
          "text": [
            "Epoch 42/600, Train Loss: 0.0593, Val Loss: 1.8961, Val Accuracy: 53.92%\n",
            "Saved Best Model with Validation Accuracy: 53.92%\n"
          ]
        },
        {
          "output_type": "stream",
          "name": "stderr",
          "text": []
        },
        {
          "output_type": "stream",
          "name": "stdout",
          "text": [
            "Epoch 43/600, Train Loss: 0.0598, Val Loss: 1.8948, Val Accuracy: 54.31%\n",
            "Saved Best Model with Validation Accuracy: 54.31%\n"
          ]
        },
        {
          "output_type": "stream",
          "name": "stderr",
          "text": []
        },
        {
          "output_type": "stream",
          "name": "stdout",
          "text": [
            "Epoch 44/600, Train Loss: 0.0582, Val Loss: 1.8943, Val Accuracy: 54.51%\n",
            "Saved Best Model with Validation Accuracy: 54.51%\n"
          ]
        },
        {
          "output_type": "stream",
          "name": "stderr",
          "text": []
        },
        {
          "output_type": "stream",
          "name": "stdout",
          "text": [
            "Epoch 45/600, Train Loss: 0.0605, Val Loss: 1.9642, Val Accuracy: 52.25%\n"
          ]
        },
        {
          "output_type": "stream",
          "name": "stderr",
          "text": []
        },
        {
          "output_type": "stream",
          "name": "stdout",
          "text": [
            "Epoch 46/600, Train Loss: 0.0809, Val Loss: 1.9314, Val Accuracy: 51.96%\n"
          ]
        },
        {
          "output_type": "stream",
          "name": "stderr",
          "text": []
        },
        {
          "output_type": "stream",
          "name": "stdout",
          "text": [
            "Epoch 47/600, Train Loss: 0.0867, Val Loss: 1.9955, Val Accuracy: 51.47%\n"
          ]
        },
        {
          "output_type": "stream",
          "name": "stderr",
          "text": []
        },
        {
          "output_type": "stream",
          "name": "stdout",
          "text": [
            "Epoch 48/600, Train Loss: 0.0871, Val Loss: 2.0457, Val Accuracy: 50.98%\n"
          ]
        },
        {
          "output_type": "stream",
          "name": "stderr",
          "text": []
        },
        {
          "output_type": "stream",
          "name": "stdout",
          "text": [
            "Epoch 49/600, Train Loss: 0.1183, Val Loss: 2.0040, Val Accuracy: 50.88%\n"
          ]
        },
        {
          "output_type": "stream",
          "name": "stderr",
          "text": []
        },
        {
          "output_type": "stream",
          "name": "stdout",
          "text": [
            "Epoch 50/600, Train Loss: 0.3212, Val Loss: 3.1152, Val Accuracy: 33.33%\n"
          ]
        },
        {
          "output_type": "stream",
          "name": "stderr",
          "text": []
        },
        {
          "output_type": "stream",
          "name": "stdout",
          "text": [
            "Epoch 51/600, Train Loss: 0.4732, Val Loss: 2.5376, Val Accuracy: 42.35%\n"
          ]
        },
        {
          "output_type": "stream",
          "name": "stderr",
          "text": []
        },
        {
          "output_type": "stream",
          "name": "stdout",
          "text": [
            "Epoch 52/600, Train Loss: 0.4334, Val Loss: 2.4948, Val Accuracy: 43.33%\n"
          ]
        },
        {
          "output_type": "stream",
          "name": "stderr",
          "text": []
        },
        {
          "output_type": "stream",
          "name": "stdout",
          "text": [
            "Epoch 53/600, Train Loss: 0.2947, Val Loss: 2.2842, Val Accuracy: 46.37%\n"
          ]
        },
        {
          "output_type": "stream",
          "name": "stderr",
          "text": []
        },
        {
          "output_type": "stream",
          "name": "stdout",
          "text": [
            "Epoch 54/600, Train Loss: 0.1679, Val Loss: 2.1923, Val Accuracy: 48.73%\n"
          ]
        },
        {
          "output_type": "stream",
          "name": "stderr",
          "text": []
        },
        {
          "output_type": "stream",
          "name": "stdout",
          "text": [
            "Epoch 55/600, Train Loss: 0.1109, Val Loss: 2.0583, Val Accuracy: 50.69%\n"
          ]
        },
        {
          "output_type": "stream",
          "name": "stderr",
          "text": []
        },
        {
          "output_type": "stream",
          "name": "stdout",
          "text": [
            "Epoch 56/600, Train Loss: 0.0726, Val Loss: 1.9633, Val Accuracy: 51.27%\n"
          ]
        },
        {
          "output_type": "stream",
          "name": "stderr",
          "text": []
        },
        {
          "output_type": "stream",
          "name": "stdout",
          "text": [
            "Epoch 57/600, Train Loss: 0.0473, Val Loss: 1.8904, Val Accuracy: 54.41%\n"
          ]
        },
        {
          "output_type": "stream",
          "name": "stderr",
          "text": []
        },
        {
          "output_type": "stream",
          "name": "stdout",
          "text": [
            "Epoch 58/600, Train Loss: 0.0434, Val Loss: 1.8535, Val Accuracy: 54.71%\n",
            "Saved Best Model with Validation Accuracy: 54.71%\n"
          ]
        },
        {
          "output_type": "stream",
          "name": "stderr",
          "text": []
        },
        {
          "output_type": "stream",
          "name": "stdout",
          "text": [
            "Epoch 59/600, Train Loss: 0.0392, Val Loss: 1.8212, Val Accuracy: 54.61%\n"
          ]
        },
        {
          "output_type": "stream",
          "name": "stderr",
          "text": []
        },
        {
          "output_type": "stream",
          "name": "stdout",
          "text": [
            "Epoch 60/600, Train Loss: 0.0392, Val Loss: 1.7877, Val Accuracy: 56.27%\n",
            "Saved Best Model with Validation Accuracy: 56.27%\n"
          ]
        },
        {
          "output_type": "stream",
          "name": "stderr",
          "text": []
        },
        {
          "output_type": "stream",
          "name": "stdout",
          "text": [
            "Epoch 61/600, Train Loss: 0.0417, Val Loss: 1.7776, Val Accuracy: 55.29%\n"
          ]
        },
        {
          "output_type": "stream",
          "name": "stderr",
          "text": []
        },
        {
          "output_type": "stream",
          "name": "stdout",
          "text": [
            "Epoch 62/600, Train Loss: 0.0458, Val Loss: 1.7822, Val Accuracy: 56.08%\n"
          ]
        },
        {
          "output_type": "stream",
          "name": "stderr",
          "text": []
        },
        {
          "output_type": "stream",
          "name": "stdout",
          "text": [
            "Epoch 63/600, Train Loss: 0.0484, Val Loss: 1.7893, Val Accuracy: 56.27%\n"
          ]
        },
        {
          "output_type": "stream",
          "name": "stderr",
          "text": []
        },
        {
          "output_type": "stream",
          "name": "stdout",
          "text": [
            "Epoch 64/600, Train Loss: 0.0505, Val Loss: 1.8026, Val Accuracy: 54.90%\n"
          ]
        },
        {
          "output_type": "stream",
          "name": "stderr",
          "text": []
        },
        {
          "output_type": "stream",
          "name": "stdout",
          "text": [
            "Epoch 65/600, Train Loss: 0.0698, Val Loss: 1.8037, Val Accuracy: 56.08%\n"
          ]
        },
        {
          "output_type": "stream",
          "name": "stderr",
          "text": []
        },
        {
          "output_type": "stream",
          "name": "stdout",
          "text": [
            "Epoch 66/600, Train Loss: 0.1064, Val Loss: 2.0431, Val Accuracy: 51.27%\n"
          ]
        },
        {
          "output_type": "stream",
          "name": "stderr",
          "text": []
        },
        {
          "output_type": "stream",
          "name": "stdout",
          "text": [
            "Epoch 67/600, Train Loss: 0.1713, Val Loss: 2.3929, Val Accuracy: 42.35%\n"
          ]
        },
        {
          "output_type": "stream",
          "name": "stderr",
          "text": []
        },
        {
          "output_type": "stream",
          "name": "stdout",
          "text": [
            "Epoch 68/600, Train Loss: 0.3059, Val Loss: 2.4496, Val Accuracy: 42.16%\n"
          ]
        },
        {
          "output_type": "stream",
          "name": "stderr",
          "text": []
        },
        {
          "output_type": "stream",
          "name": "stdout",
          "text": [
            "Epoch 69/600, Train Loss: 0.4942, Val Loss: 2.6808, Val Accuracy: 40.98%\n"
          ]
        },
        {
          "output_type": "stream",
          "name": "stderr",
          "text": []
        },
        {
          "output_type": "stream",
          "name": "stdout",
          "text": [
            "Epoch 70/600, Train Loss: 0.4935, Val Loss: 2.6005, Val Accuracy: 41.57%\n"
          ]
        },
        {
          "output_type": "stream",
          "name": "stderr",
          "text": []
        },
        {
          "output_type": "stream",
          "name": "stdout",
          "text": [
            "Epoch 71/600, Train Loss: 0.3359, Val Loss: 2.2625, Val Accuracy: 46.27%\n"
          ]
        },
        {
          "output_type": "stream",
          "name": "stderr",
          "text": []
        },
        {
          "output_type": "stream",
          "name": "stdout",
          "text": [
            "Epoch 72/600, Train Loss: 0.1819, Val Loss: 2.1293, Val Accuracy: 48.04%\n"
          ]
        },
        {
          "output_type": "stream",
          "name": "stderr",
          "text": []
        },
        {
          "output_type": "stream",
          "name": "stdout",
          "text": [
            "Epoch 73/600, Train Loss: 0.1073, Val Loss: 2.0889, Val Accuracy: 51.27%\n"
          ]
        },
        {
          "output_type": "stream",
          "name": "stderr",
          "text": []
        },
        {
          "output_type": "stream",
          "name": "stdout",
          "text": [
            "Epoch 74/600, Train Loss: 0.0735, Val Loss: 1.9571, Val Accuracy: 51.76%\n"
          ]
        },
        {
          "output_type": "stream",
          "name": "stderr",
          "text": []
        },
        {
          "output_type": "stream",
          "name": "stdout",
          "text": [
            "Epoch 75/600, Train Loss: 0.0503, Val Loss: 1.8930, Val Accuracy: 54.12%\n"
          ]
        },
        {
          "output_type": "stream",
          "name": "stderr",
          "text": []
        },
        {
          "output_type": "stream",
          "name": "stdout",
          "text": [
            "Epoch 76/600, Train Loss: 0.0387, Val Loss: 1.7768, Val Accuracy: 56.37%\n",
            "Saved Best Model with Validation Accuracy: 56.37%\n"
          ]
        },
        {
          "output_type": "stream",
          "name": "stderr",
          "text": []
        },
        {
          "output_type": "stream",
          "name": "stdout",
          "text": [
            "Epoch 77/600, Train Loss: 0.0394, Val Loss: 1.7748, Val Accuracy: 57.25%\n",
            "Saved Best Model with Validation Accuracy: 57.25%\n"
          ]
        },
        {
          "output_type": "stream",
          "name": "stderr",
          "text": []
        },
        {
          "output_type": "stream",
          "name": "stdout",
          "text": [
            "Epoch 78/600, Train Loss: 0.0467, Val Loss: 1.8236, Val Accuracy: 55.29%\n"
          ]
        },
        {
          "output_type": "stream",
          "name": "stderr",
          "text": []
        },
        {
          "output_type": "stream",
          "name": "stdout",
          "text": [
            "Epoch 79/600, Train Loss: 0.0586, Val Loss: 1.8658, Val Accuracy: 54.41%\n"
          ]
        },
        {
          "output_type": "stream",
          "name": "stderr",
          "text": []
        },
        {
          "output_type": "stream",
          "name": "stdout",
          "text": [
            "Epoch 80/600, Train Loss: 0.0560, Val Loss: 1.7785, Val Accuracy: 57.16%\n"
          ]
        },
        {
          "output_type": "stream",
          "name": "stderr",
          "text": []
        },
        {
          "output_type": "stream",
          "name": "stdout",
          "text": [
            "Epoch 81/600, Train Loss: 0.0486, Val Loss: 1.7611, Val Accuracy: 56.76%\n"
          ]
        },
        {
          "output_type": "stream",
          "name": "stderr",
          "text": []
        },
        {
          "output_type": "stream",
          "name": "stdout",
          "text": [
            "Epoch 82/600, Train Loss: 0.0484, Val Loss: 1.7490, Val Accuracy: 57.35%\n",
            "Saved Best Model with Validation Accuracy: 57.35%\n"
          ]
        },
        {
          "output_type": "stream",
          "name": "stderr",
          "text": []
        },
        {
          "output_type": "stream",
          "name": "stdout",
          "text": [
            "Epoch 83/600, Train Loss: 0.0501, Val Loss: 1.7445, Val Accuracy: 57.65%\n",
            "Saved Best Model with Validation Accuracy: 57.65%\n"
          ]
        },
        {
          "output_type": "stream",
          "name": "stderr",
          "text": []
        },
        {
          "output_type": "stream",
          "name": "stdout",
          "text": [
            "Epoch 84/600, Train Loss: 0.0490, Val Loss: 1.7743, Val Accuracy: 57.65%\n"
          ]
        },
        {
          "output_type": "stream",
          "name": "stderr",
          "text": []
        },
        {
          "output_type": "stream",
          "name": "stdout",
          "text": [
            "Epoch 85/600, Train Loss: 0.0505, Val Loss: 1.7839, Val Accuracy: 56.76%\n"
          ]
        },
        {
          "output_type": "stream",
          "name": "stderr",
          "text": []
        },
        {
          "output_type": "stream",
          "name": "stdout",
          "text": [
            "Epoch 86/600, Train Loss: 0.0666, Val Loss: 1.8176, Val Accuracy: 55.98%\n"
          ]
        },
        {
          "output_type": "stream",
          "name": "stderr",
          "text": []
        },
        {
          "output_type": "stream",
          "name": "stdout",
          "text": [
            "Epoch 87/600, Train Loss: 0.1041, Val Loss: 2.1381, Val Accuracy: 48.24%\n"
          ]
        },
        {
          "output_type": "stream",
          "name": "stderr",
          "text": []
        },
        {
          "output_type": "stream",
          "name": "stdout",
          "text": [
            "Epoch 88/600, Train Loss: 0.2386, Val Loss: 2.5593, Val Accuracy: 39.90%\n"
          ]
        },
        {
          "output_type": "stream",
          "name": "stderr",
          "text": []
        },
        {
          "output_type": "stream",
          "name": "stdout",
          "text": [
            "Epoch 89/600, Train Loss: 0.6010, Val Loss: 2.8993, Val Accuracy: 36.86%\n"
          ]
        },
        {
          "output_type": "stream",
          "name": "stderr",
          "text": []
        },
        {
          "output_type": "stream",
          "name": "stdout",
          "text": [
            "Epoch 90/600, Train Loss: 0.6440, Val Loss: 2.3916, Val Accuracy: 44.61%\n"
          ]
        },
        {
          "output_type": "stream",
          "name": "stderr",
          "text": []
        },
        {
          "output_type": "stream",
          "name": "stdout",
          "text": [
            "Epoch 91/600, Train Loss: 0.3828, Val Loss: 2.3320, Val Accuracy: 46.18%\n"
          ]
        },
        {
          "output_type": "stream",
          "name": "stderr",
          "text": []
        },
        {
          "output_type": "stream",
          "name": "stdout",
          "text": [
            "Epoch 92/600, Train Loss: 0.1912, Val Loss: 2.0203, Val Accuracy: 51.76%\n"
          ]
        },
        {
          "output_type": "stream",
          "name": "stderr",
          "text": []
        },
        {
          "output_type": "stream",
          "name": "stdout",
          "text": [
            "Epoch 93/600, Train Loss: 0.1045, Val Loss: 1.9615, Val Accuracy: 52.45%\n"
          ]
        },
        {
          "output_type": "stream",
          "name": "stderr",
          "text": []
        },
        {
          "output_type": "stream",
          "name": "stdout",
          "text": [
            "Epoch 94/600, Train Loss: 0.0553, Val Loss: 1.8344, Val Accuracy: 55.00%\n"
          ]
        },
        {
          "output_type": "stream",
          "name": "stderr",
          "text": []
        },
        {
          "output_type": "stream",
          "name": "stdout",
          "text": [
            "Epoch 95/600, Train Loss: 0.0451, Val Loss: 1.8234, Val Accuracy: 55.20%\n"
          ]
        },
        {
          "output_type": "stream",
          "name": "stderr",
          "text": []
        },
        {
          "output_type": "stream",
          "name": "stdout",
          "text": [
            "Epoch 96/600, Train Loss: 0.0404, Val Loss: 1.7624, Val Accuracy: 55.88%\n"
          ]
        },
        {
          "output_type": "stream",
          "name": "stderr",
          "text": []
        },
        {
          "output_type": "stream",
          "name": "stdout",
          "text": [
            "Epoch 97/600, Train Loss: 0.0415, Val Loss: 1.7641, Val Accuracy: 55.78%\n"
          ]
        },
        {
          "output_type": "stream",
          "name": "stderr",
          "text": []
        },
        {
          "output_type": "stream",
          "name": "stdout",
          "text": [
            "Epoch 98/600, Train Loss: 0.0473, Val Loss: 1.7717, Val Accuracy: 55.98%\n"
          ]
        },
        {
          "output_type": "stream",
          "name": "stderr",
          "text": []
        },
        {
          "output_type": "stream",
          "name": "stdout",
          "text": [
            "Epoch 99/600, Train Loss: 0.0477, Val Loss: 1.7136, Val Accuracy: 56.27%\n"
          ]
        },
        {
          "output_type": "stream",
          "name": "stderr",
          "text": []
        },
        {
          "output_type": "stream",
          "name": "stdout",
          "text": [
            "Epoch 100/600, Train Loss: 0.0444, Val Loss: 1.7018, Val Accuracy: 57.55%\n"
          ]
        },
        {
          "output_type": "stream",
          "name": "stderr",
          "text": []
        },
        {
          "output_type": "stream",
          "name": "stdout",
          "text": [
            "Epoch 101/600, Train Loss: 0.0434, Val Loss: 1.6854, Val Accuracy: 58.43%\n",
            "Saved Best Model with Validation Accuracy: 58.43%\n"
          ]
        },
        {
          "output_type": "stream",
          "name": "stderr",
          "text": []
        },
        {
          "output_type": "stream",
          "name": "stdout",
          "text": [
            "Epoch 102/600, Train Loss: 0.0463, Val Loss: 1.6942, Val Accuracy: 58.33%\n"
          ]
        },
        {
          "output_type": "stream",
          "name": "stderr",
          "text": []
        },
        {
          "output_type": "stream",
          "name": "stdout",
          "text": [
            "Epoch 103/600, Train Loss: 0.0501, Val Loss: 1.6862, Val Accuracy: 56.96%\n"
          ]
        },
        {
          "output_type": "stream",
          "name": "stderr",
          "text": []
        },
        {
          "output_type": "stream",
          "name": "stdout",
          "text": [
            "Epoch 104/600, Train Loss: 0.0554, Val Loss: 1.7595, Val Accuracy: 56.08%\n"
          ]
        },
        {
          "output_type": "stream",
          "name": "stderr",
          "text": []
        },
        {
          "output_type": "stream",
          "name": "stdout",
          "text": [
            "Epoch 105/600, Train Loss: 0.0724, Val Loss: 1.8667, Val Accuracy: 55.10%\n"
          ]
        },
        {
          "output_type": "stream",
          "name": "stderr",
          "text": []
        },
        {
          "output_type": "stream",
          "name": "stdout",
          "text": [
            "Epoch 106/600, Train Loss: 0.0807, Val Loss: 1.9023, Val Accuracy: 53.92%\n"
          ]
        },
        {
          "output_type": "stream",
          "name": "stderr",
          "text": []
        },
        {
          "output_type": "stream",
          "name": "stdout",
          "text": [
            "Epoch 107/600, Train Loss: 0.1157, Val Loss: 2.0294, Val Accuracy: 50.10%\n"
          ]
        },
        {
          "output_type": "stream",
          "name": "stderr",
          "text": []
        },
        {
          "output_type": "stream",
          "name": "stdout",
          "text": [
            "Epoch 108/600, Train Loss: 0.2777, Val Loss: 3.0759, Val Accuracy: 36.96%\n"
          ]
        },
        {
          "output_type": "stream",
          "name": "stderr",
          "text": []
        },
        {
          "output_type": "stream",
          "name": "stdout",
          "text": [
            "Epoch 109/600, Train Loss: 0.5889, Val Loss: 3.1056, Val Accuracy: 33.92%\n"
          ]
        },
        {
          "output_type": "stream",
          "name": "stderr",
          "text": []
        },
        {
          "output_type": "stream",
          "name": "stdout",
          "text": [
            "Epoch 110/600, Train Loss: 0.5843, Val Loss: 2.8048, Val Accuracy: 38.53%\n"
          ]
        },
        {
          "output_type": "stream",
          "name": "stderr",
          "text": []
        },
        {
          "output_type": "stream",
          "name": "stdout",
          "text": [
            "Epoch 111/600, Train Loss: 0.3712, Val Loss: 2.3109, Val Accuracy: 47.45%\n"
          ]
        },
        {
          "output_type": "stream",
          "name": "stderr",
          "text": []
        },
        {
          "output_type": "stream",
          "name": "stdout",
          "text": [
            "Epoch 112/600, Train Loss: 0.1848, Val Loss: 2.0521, Val Accuracy: 51.18%\n"
          ]
        },
        {
          "output_type": "stream",
          "name": "stderr",
          "text": []
        },
        {
          "output_type": "stream",
          "name": "stdout",
          "text": [
            "Epoch 113/600, Train Loss: 0.0988, Val Loss: 1.9857, Val Accuracy: 53.24%\n"
          ]
        },
        {
          "output_type": "stream",
          "name": "stderr",
          "text": []
        },
        {
          "output_type": "stream",
          "name": "stdout",
          "text": [
            "Epoch 114/600, Train Loss: 0.0687, Val Loss: 1.8773, Val Accuracy: 55.39%\n"
          ]
        },
        {
          "output_type": "stream",
          "name": "stderr",
          "text": []
        },
        {
          "output_type": "stream",
          "name": "stdout",
          "text": [
            "Epoch 115/600, Train Loss: 0.0549, Val Loss: 1.7659, Val Accuracy: 56.96%\n"
          ]
        },
        {
          "output_type": "stream",
          "name": "stderr",
          "text": []
        },
        {
          "output_type": "stream",
          "name": "stdout",
          "text": [
            "Epoch 116/600, Train Loss: 0.0489, Val Loss: 1.7464, Val Accuracy: 57.16%\n"
          ]
        },
        {
          "output_type": "stream",
          "name": "stderr",
          "text": []
        },
        {
          "output_type": "stream",
          "name": "stdout",
          "text": [
            "Epoch 117/600, Train Loss: 0.0405, Val Loss: 1.7247, Val Accuracy: 58.04%\n"
          ]
        },
        {
          "output_type": "stream",
          "name": "stderr",
          "text": []
        },
        {
          "output_type": "stream",
          "name": "stdout",
          "text": [
            "Epoch 118/600, Train Loss: 0.0456, Val Loss: 1.7089, Val Accuracy: 57.84%\n"
          ]
        },
        {
          "output_type": "stream",
          "name": "stderr",
          "text": []
        },
        {
          "output_type": "stream",
          "name": "stdout",
          "text": [
            "Epoch 119/600, Train Loss: 0.0459, Val Loss: 1.7027, Val Accuracy: 58.82%\n",
            "Saved Best Model with Validation Accuracy: 58.82%\n"
          ]
        },
        {
          "output_type": "stream",
          "name": "stderr",
          "text": []
        },
        {
          "output_type": "stream",
          "name": "stdout",
          "text": [
            "Epoch 120/600, Train Loss: 0.0442, Val Loss: 1.7273, Val Accuracy: 57.55%\n"
          ]
        },
        {
          "output_type": "stream",
          "name": "stderr",
          "text": []
        },
        {
          "output_type": "stream",
          "name": "stdout",
          "text": [
            "Epoch 121/600, Train Loss: 0.0485, Val Loss: 1.6970, Val Accuracy: 59.41%\n",
            "Saved Best Model with Validation Accuracy: 59.41%\n"
          ]
        },
        {
          "output_type": "stream",
          "name": "stderr",
          "text": []
        },
        {
          "output_type": "stream",
          "name": "stdout",
          "text": [
            "Epoch 122/600, Train Loss: 0.0475, Val Loss: 1.6870, Val Accuracy: 59.31%\n"
          ]
        },
        {
          "output_type": "stream",
          "name": "stderr",
          "text": []
        },
        {
          "output_type": "stream",
          "name": "stdout",
          "text": [
            "Epoch 123/600, Train Loss: 0.0465, Val Loss: 1.6921, Val Accuracy: 58.73%\n"
          ]
        },
        {
          "output_type": "stream",
          "name": "stderr",
          "text": []
        },
        {
          "output_type": "stream",
          "name": "stdout",
          "text": [
            "Epoch 124/600, Train Loss: 0.0504, Val Loss: 1.6824, Val Accuracy: 59.31%\n"
          ]
        },
        {
          "output_type": "stream",
          "name": "stderr",
          "text": []
        },
        {
          "output_type": "stream",
          "name": "stdout",
          "text": [
            "Epoch 125/600, Train Loss: 0.0570, Val Loss: 1.7234, Val Accuracy: 57.94%\n"
          ]
        },
        {
          "output_type": "stream",
          "name": "stderr",
          "text": []
        },
        {
          "output_type": "stream",
          "name": "stdout",
          "text": [
            "Epoch 126/600, Train Loss: 0.0764, Val Loss: 1.8759, Val Accuracy: 55.29%\n"
          ]
        },
        {
          "output_type": "stream",
          "name": "stderr",
          "text": []
        },
        {
          "output_type": "stream",
          "name": "stdout",
          "text": [
            "Epoch 127/600, Train Loss: 0.0821, Val Loss: 1.8162, Val Accuracy: 55.88%\n"
          ]
        },
        {
          "output_type": "stream",
          "name": "stderr",
          "text": []
        },
        {
          "output_type": "stream",
          "name": "stdout",
          "text": [
            "Epoch 128/600, Train Loss: 0.0960, Val Loss: 1.9815, Val Accuracy: 52.84%\n"
          ]
        },
        {
          "output_type": "stream",
          "name": "stderr",
          "text": []
        },
        {
          "output_type": "stream",
          "name": "stdout",
          "text": [
            "Epoch 129/600, Train Loss: 0.1550, Val Loss: 2.3278, Val Accuracy: 45.49%\n"
          ]
        },
        {
          "output_type": "stream",
          "name": "stderr",
          "text": []
        },
        {
          "output_type": "stream",
          "name": "stdout",
          "text": [
            "Epoch 130/600, Train Loss: 0.4894, Val Loss: 2.9500, Val Accuracy: 34.22%\n"
          ]
        },
        {
          "output_type": "stream",
          "name": "stderr",
          "text": []
        },
        {
          "output_type": "stream",
          "name": "stdout",
          "text": [
            "Epoch 131/600, Train Loss: 0.6919, Val Loss: 2.7518, Val Accuracy: 41.08%\n"
          ]
        },
        {
          "output_type": "stream",
          "name": "stderr",
          "text": []
        },
        {
          "output_type": "stream",
          "name": "stdout",
          "text": [
            "Epoch 132/600, Train Loss: 0.4750, Val Loss: 2.5904, Val Accuracy: 43.14%\n"
          ]
        },
        {
          "output_type": "stream",
          "name": "stderr",
          "text": []
        },
        {
          "output_type": "stream",
          "name": "stdout",
          "text": [
            "Epoch 133/600, Train Loss: 0.2549, Val Loss: 2.0507, Val Accuracy: 51.57%\n"
          ]
        },
        {
          "output_type": "stream",
          "name": "stderr",
          "text": []
        },
        {
          "output_type": "stream",
          "name": "stdout",
          "text": [
            "Epoch 134/600, Train Loss: 0.1347, Val Loss: 2.1248, Val Accuracy: 50.59%\n"
          ]
        },
        {
          "output_type": "stream",
          "name": "stderr",
          "text": []
        },
        {
          "output_type": "stream",
          "name": "stdout",
          "text": [
            "Epoch 135/600, Train Loss: 0.0724, Val Loss: 1.8390, Val Accuracy: 55.49%\n"
          ]
        },
        {
          "output_type": "stream",
          "name": "stderr",
          "text": []
        },
        {
          "output_type": "stream",
          "name": "stdout",
          "text": [
            "Epoch 136/600, Train Loss: 0.0438, Val Loss: 1.7553, Val Accuracy: 56.57%\n"
          ]
        },
        {
          "output_type": "stream",
          "name": "stderr",
          "text": []
        },
        {
          "output_type": "stream",
          "name": "stdout",
          "text": [
            "Epoch 137/600, Train Loss: 0.0419, Val Loss: 1.7174, Val Accuracy: 58.04%\n"
          ]
        },
        {
          "output_type": "stream",
          "name": "stderr",
          "text": []
        },
        {
          "output_type": "stream",
          "name": "stdout",
          "text": [
            "Epoch 138/600, Train Loss: 0.0463, Val Loss: 1.6886, Val Accuracy: 58.24%\n"
          ]
        },
        {
          "output_type": "stream",
          "name": "stderr",
          "text": []
        },
        {
          "output_type": "stream",
          "name": "stdout",
          "text": [
            "Epoch 139/600, Train Loss: 0.0475, Val Loss: 1.7079, Val Accuracy: 57.75%\n"
          ]
        },
        {
          "output_type": "stream",
          "name": "stderr",
          "text": []
        },
        {
          "output_type": "stream",
          "name": "stdout",
          "text": [
            "Epoch 140/600, Train Loss: 0.0522, Val Loss: 1.6835, Val Accuracy: 58.14%\n"
          ]
        },
        {
          "output_type": "stream",
          "name": "stderr",
          "text": []
        },
        {
          "output_type": "stream",
          "name": "stdout",
          "text": [
            "Epoch 141/600, Train Loss: 0.0537, Val Loss: 1.6506, Val Accuracy: 59.90%\n",
            "Saved Best Model with Validation Accuracy: 59.90%\n"
          ]
        },
        {
          "output_type": "stream",
          "name": "stderr",
          "text": []
        },
        {
          "output_type": "stream",
          "name": "stdout",
          "text": [
            "Epoch 142/600, Train Loss: 0.0570, Val Loss: 1.7020, Val Accuracy: 57.84%\n"
          ]
        },
        {
          "output_type": "stream",
          "name": "stderr",
          "text": []
        },
        {
          "output_type": "stream",
          "name": "stdout",
          "text": [
            "Epoch 143/600, Train Loss: 0.0535, Val Loss: 1.7186, Val Accuracy: 58.14%\n"
          ]
        },
        {
          "output_type": "stream",
          "name": "stderr",
          "text": []
        },
        {
          "output_type": "stream",
          "name": "stdout",
          "text": [
            "Epoch 144/600, Train Loss: 0.0524, Val Loss: 1.6810, Val Accuracy: 58.33%\n"
          ]
        },
        {
          "output_type": "stream",
          "name": "stderr",
          "text": []
        },
        {
          "output_type": "stream",
          "name": "stdout",
          "text": [
            "Epoch 145/600, Train Loss: 0.0460, Val Loss: 1.6834, Val Accuracy: 59.61%\n"
          ]
        },
        {
          "output_type": "stream",
          "name": "stderr",
          "text": []
        },
        {
          "output_type": "stream",
          "name": "stdout",
          "text": [
            "Epoch 146/600, Train Loss: 0.0492, Val Loss: 1.6572, Val Accuracy: 59.51%\n"
          ]
        },
        {
          "output_type": "stream",
          "name": "stderr",
          "text": []
        },
        {
          "output_type": "stream",
          "name": "stdout",
          "text": [
            "Epoch 147/600, Train Loss: 0.0556, Val Loss: 1.6761, Val Accuracy: 59.31%\n"
          ]
        },
        {
          "output_type": "stream",
          "name": "stderr",
          "text": []
        },
        {
          "output_type": "stream",
          "name": "stdout",
          "text": [
            "Epoch 148/600, Train Loss: 0.0599, Val Loss: 1.6950, Val Accuracy: 59.02%\n"
          ]
        },
        {
          "output_type": "stream",
          "name": "stderr",
          "text": []
        },
        {
          "output_type": "stream",
          "name": "stdout",
          "text": [
            "Epoch 149/600, Train Loss: 0.0531, Val Loss: 1.6932, Val Accuracy: 59.22%\n"
          ]
        },
        {
          "output_type": "stream",
          "name": "stderr",
          "text": []
        },
        {
          "output_type": "stream",
          "name": "stdout",
          "text": [
            "Epoch 150/600, Train Loss: 0.0681, Val Loss: 1.8379, Val Accuracy: 55.98%\n"
          ]
        },
        {
          "output_type": "stream",
          "name": "stderr",
          "text": []
        },
        {
          "output_type": "stream",
          "name": "stdout",
          "text": [
            "Epoch 151/600, Train Loss: 0.2111, Val Loss: 2.3875, Val Accuracy: 46.37%\n"
          ]
        },
        {
          "output_type": "stream",
          "name": "stderr",
          "text": []
        },
        {
          "output_type": "stream",
          "name": "stdout",
          "text": [
            "Epoch 152/600, Train Loss: 0.7018, Val Loss: 3.3376, Val Accuracy: 31.27%\n"
          ]
        },
        {
          "output_type": "stream",
          "name": "stderr",
          "text": []
        },
        {
          "output_type": "stream",
          "name": "stdout",
          "text": [
            "Epoch 153/600, Train Loss: 0.7998, Val Loss: 2.9415, Val Accuracy: 36.57%\n"
          ]
        },
        {
          "output_type": "stream",
          "name": "stderr",
          "text": []
        },
        {
          "output_type": "stream",
          "name": "stdout",
          "text": [
            "Epoch 154/600, Train Loss: 0.4520, Val Loss: 2.2673, Val Accuracy: 46.96%\n"
          ]
        },
        {
          "output_type": "stream",
          "name": "stderr",
          "text": []
        },
        {
          "output_type": "stream",
          "name": "stdout",
          "text": [
            "Epoch 155/600, Train Loss: 0.2542, Val Loss: 2.2526, Val Accuracy: 46.47%\n"
          ]
        },
        {
          "output_type": "stream",
          "name": "stderr",
          "text": []
        },
        {
          "output_type": "stream",
          "name": "stdout",
          "text": [
            "Epoch 156/600, Train Loss: 0.1304, Val Loss: 1.9601, Val Accuracy: 53.04%\n"
          ]
        },
        {
          "output_type": "stream",
          "name": "stderr",
          "text": []
        },
        {
          "output_type": "stream",
          "name": "stdout",
          "text": [
            "Epoch 157/600, Train Loss: 0.0675, Val Loss: 1.8243, Val Accuracy: 56.08%\n"
          ]
        },
        {
          "output_type": "stream",
          "name": "stderr",
          "text": []
        },
        {
          "output_type": "stream",
          "name": "stdout",
          "text": [
            "Epoch 158/600, Train Loss: 0.0531, Val Loss: 1.7686, Val Accuracy: 56.08%\n"
          ]
        },
        {
          "output_type": "stream",
          "name": "stderr",
          "text": []
        },
        {
          "output_type": "stream",
          "name": "stdout",
          "text": [
            "Epoch 159/600, Train Loss: 0.0507, Val Loss: 1.6975, Val Accuracy: 57.75%\n"
          ]
        },
        {
          "output_type": "stream",
          "name": "stderr",
          "text": []
        },
        {
          "output_type": "stream",
          "name": "stdout",
          "text": [
            "Epoch 160/600, Train Loss: 0.0452, Val Loss: 1.6863, Val Accuracy: 57.45%\n"
          ]
        },
        {
          "output_type": "stream",
          "name": "stderr",
          "text": []
        },
        {
          "output_type": "stream",
          "name": "stdout",
          "text": [
            "Epoch 161/600, Train Loss: 0.0499, Val Loss: 1.6821, Val Accuracy: 58.73%\n"
          ]
        },
        {
          "output_type": "stream",
          "name": "stderr",
          "text": []
        },
        {
          "output_type": "stream",
          "name": "stdout",
          "text": [
            "Epoch 162/600, Train Loss: 0.0502, Val Loss: 1.6661, Val Accuracy: 59.12%\n"
          ]
        },
        {
          "output_type": "stream",
          "name": "stderr",
          "text": []
        },
        {
          "output_type": "stream",
          "name": "stdout",
          "text": [
            "Epoch 163/600, Train Loss: 0.0538, Val Loss: 1.6385, Val Accuracy: 58.82%\n"
          ]
        },
        {
          "output_type": "stream",
          "name": "stderr",
          "text": []
        },
        {
          "output_type": "stream",
          "name": "stdout",
          "text": [
            "Epoch 164/600, Train Loss: 0.0591, Val Loss: 1.6896, Val Accuracy: 59.61%\n"
          ]
        },
        {
          "output_type": "stream",
          "name": "stderr",
          "text": []
        },
        {
          "output_type": "stream",
          "name": "stdout",
          "text": [
            "Epoch 165/600, Train Loss: 0.0567, Val Loss: 1.6558, Val Accuracy: 59.90%\n"
          ]
        },
        {
          "output_type": "stream",
          "name": "stderr",
          "text": []
        },
        {
          "output_type": "stream",
          "name": "stdout",
          "text": [
            "Epoch 166/600, Train Loss: 0.0530, Val Loss: 1.6646, Val Accuracy: 59.90%\n"
          ]
        },
        {
          "output_type": "stream",
          "name": "stderr",
          "text": []
        },
        {
          "output_type": "stream",
          "name": "stdout",
          "text": [
            "Epoch 167/600, Train Loss: 0.0524, Val Loss: 1.6464, Val Accuracy: 60.29%\n",
            "Saved Best Model with Validation Accuracy: 60.29%\n"
          ]
        },
        {
          "output_type": "stream",
          "name": "stderr",
          "text": []
        },
        {
          "output_type": "stream",
          "name": "stdout",
          "text": [
            "Epoch 168/600, Train Loss: 0.0540, Val Loss: 1.6423, Val Accuracy: 59.31%\n"
          ]
        },
        {
          "output_type": "stream",
          "name": "stderr",
          "text": []
        },
        {
          "output_type": "stream",
          "name": "stdout",
          "text": [
            "Epoch 169/600, Train Loss: 0.0569, Val Loss: 1.6652, Val Accuracy: 58.82%\n"
          ]
        },
        {
          "output_type": "stream",
          "name": "stderr",
          "text": []
        },
        {
          "output_type": "stream",
          "name": "stdout",
          "text": [
            "Epoch 170/600, Train Loss: 0.0559, Val Loss: 1.6782, Val Accuracy: 58.82%\n"
          ]
        },
        {
          "output_type": "stream",
          "name": "stderr",
          "text": []
        },
        {
          "output_type": "stream",
          "name": "stdout",
          "text": [
            "Epoch 171/600, Train Loss: 0.0636, Val Loss: 1.7483, Val Accuracy: 58.04%\n"
          ]
        },
        {
          "output_type": "stream",
          "name": "stderr",
          "text": []
        },
        {
          "output_type": "stream",
          "name": "stdout",
          "text": [
            "Epoch 172/600, Train Loss: 0.1122, Val Loss: 2.0891, Val Accuracy: 50.39%\n"
          ]
        },
        {
          "output_type": "stream",
          "name": "stderr",
          "text": []
        },
        {
          "output_type": "stream",
          "name": "stdout",
          "text": [
            "Epoch 173/600, Train Loss: 0.2889, Val Loss: 3.1505, Val Accuracy: 35.29%\n"
          ]
        },
        {
          "output_type": "stream",
          "name": "stderr",
          "text": []
        },
        {
          "output_type": "stream",
          "name": "stdout",
          "text": [
            "Epoch 174/600, Train Loss: 0.6148, Val Loss: 3.3397, Val Accuracy: 31.86%\n"
          ]
        },
        {
          "output_type": "stream",
          "name": "stderr",
          "text": []
        },
        {
          "output_type": "stream",
          "name": "stdout",
          "text": [
            "Epoch 175/600, Train Loss: 0.5257, Val Loss: 2.6854, Val Accuracy: 40.98%\n"
          ]
        },
        {
          "output_type": "stream",
          "name": "stderr",
          "text": []
        },
        {
          "output_type": "stream",
          "name": "stdout",
          "text": [
            "Epoch 176/600, Train Loss: 0.3020, Val Loss: 2.1701, Val Accuracy: 47.94%\n"
          ]
        },
        {
          "output_type": "stream",
          "name": "stderr",
          "text": []
        },
        {
          "output_type": "stream",
          "name": "stdout",
          "text": [
            "Epoch 177/600, Train Loss: 0.1880, Val Loss: 1.9767, Val Accuracy: 52.65%\n"
          ]
        },
        {
          "output_type": "stream",
          "name": "stderr",
          "text": []
        },
        {
          "output_type": "stream",
          "name": "stdout",
          "text": [
            "Epoch 178/600, Train Loss: 0.0976, Val Loss: 1.8306, Val Accuracy: 55.00%\n"
          ]
        },
        {
          "output_type": "stream",
          "name": "stderr",
          "text": []
        },
        {
          "output_type": "stream",
          "name": "stdout",
          "text": [
            "Epoch 179/600, Train Loss: 0.0637, Val Loss: 1.7409, Val Accuracy: 57.35%\n"
          ]
        },
        {
          "output_type": "stream",
          "name": "stderr",
          "text": []
        },
        {
          "output_type": "stream",
          "name": "stdout",
          "text": [
            "Epoch 180/600, Train Loss: 0.0535, Val Loss: 1.7188, Val Accuracy: 57.55%\n"
          ]
        },
        {
          "output_type": "stream",
          "name": "stderr",
          "text": []
        },
        {
          "output_type": "stream",
          "name": "stdout",
          "text": [
            "Epoch 181/600, Train Loss: 0.0543, Val Loss: 1.6570, Val Accuracy: 58.43%\n"
          ]
        },
        {
          "output_type": "stream",
          "name": "stderr",
          "text": []
        },
        {
          "output_type": "stream",
          "name": "stdout",
          "text": [
            "Epoch 182/600, Train Loss: 0.0489, Val Loss: 1.6592, Val Accuracy: 59.51%\n"
          ]
        },
        {
          "output_type": "stream",
          "name": "stderr",
          "text": []
        },
        {
          "output_type": "stream",
          "name": "stdout",
          "text": [
            "Epoch 183/600, Train Loss: 0.0485, Val Loss: 1.6379, Val Accuracy: 59.51%\n"
          ]
        },
        {
          "output_type": "stream",
          "name": "stderr",
          "text": []
        },
        {
          "output_type": "stream",
          "name": "stdout",
          "text": [
            "Epoch 184/600, Train Loss: 0.0584, Val Loss: 1.6799, Val Accuracy: 58.82%\n"
          ]
        },
        {
          "output_type": "stream",
          "name": "stderr",
          "text": []
        },
        {
          "output_type": "stream",
          "name": "stdout",
          "text": [
            "Epoch 185/600, Train Loss: 0.0593, Val Loss: 1.6599, Val Accuracy: 59.61%\n"
          ]
        },
        {
          "output_type": "stream",
          "name": "stderr",
          "text": []
        },
        {
          "output_type": "stream",
          "name": "stdout",
          "text": [
            "Epoch 186/600, Train Loss: 0.0531, Val Loss: 1.6163, Val Accuracy: 60.69%\n",
            "Saved Best Model with Validation Accuracy: 60.69%\n"
          ]
        },
        {
          "output_type": "stream",
          "name": "stderr",
          "text": []
        },
        {
          "output_type": "stream",
          "name": "stdout",
          "text": [
            "Epoch 187/600, Train Loss: 0.0538, Val Loss: 1.6362, Val Accuracy: 60.98%\n",
            "Saved Best Model with Validation Accuracy: 60.98%\n"
          ]
        },
        {
          "output_type": "stream",
          "name": "stderr",
          "text": []
        },
        {
          "output_type": "stream",
          "name": "stdout",
          "text": [
            "Epoch 188/600, Train Loss: 0.0570, Val Loss: 1.6468, Val Accuracy: 59.80%\n"
          ]
        },
        {
          "output_type": "stream",
          "name": "stderr",
          "text": []
        },
        {
          "output_type": "stream",
          "name": "stdout",
          "text": [
            "Epoch 189/600, Train Loss: 0.0589, Val Loss: 1.7166, Val Accuracy: 58.92%\n"
          ]
        },
        {
          "output_type": "stream",
          "name": "stderr",
          "text": []
        },
        {
          "output_type": "stream",
          "name": "stdout",
          "text": [
            "Epoch 190/600, Train Loss: 0.0597, Val Loss: 1.6898, Val Accuracy: 60.49%\n"
          ]
        },
        {
          "output_type": "stream",
          "name": "stderr",
          "text": []
        },
        {
          "output_type": "stream",
          "name": "stdout",
          "text": [
            "Epoch 191/600, Train Loss: 0.0586, Val Loss: 1.7167, Val Accuracy: 59.90%\n"
          ]
        },
        {
          "output_type": "stream",
          "name": "stderr",
          "text": []
        },
        {
          "output_type": "stream",
          "name": "stdout",
          "text": [
            "Epoch 192/600, Train Loss: 0.0576, Val Loss: 1.6795, Val Accuracy: 59.31%\n"
          ]
        },
        {
          "output_type": "stream",
          "name": "stderr",
          "text": []
        },
        {
          "output_type": "stream",
          "name": "stdout",
          "text": [
            "Epoch 193/600, Train Loss: 0.0623, Val Loss: 1.7911, Val Accuracy: 57.16%\n"
          ]
        },
        {
          "output_type": "stream",
          "name": "stderr",
          "text": []
        },
        {
          "output_type": "stream",
          "name": "stdout",
          "text": [
            "Epoch 194/600, Train Loss: 0.0900, Val Loss: 1.8779, Val Accuracy: 54.80%\n"
          ]
        },
        {
          "output_type": "stream",
          "name": "stderr",
          "text": []
        },
        {
          "output_type": "stream",
          "name": "stdout",
          "text": [
            "Epoch 195/600, Train Loss: 0.1952, Val Loss: 2.3192, Val Accuracy: 46.47%\n"
          ]
        },
        {
          "output_type": "stream",
          "name": "stderr",
          "text": []
        },
        {
          "output_type": "stream",
          "name": "stdout",
          "text": [
            "Epoch 196/600, Train Loss: 0.5690, Val Loss: 3.0539, Val Accuracy: 35.98%\n"
          ]
        },
        {
          "output_type": "stream",
          "name": "stderr",
          "text": []
        },
        {
          "output_type": "stream",
          "name": "stdout",
          "text": [
            "Epoch 197/600, Train Loss: 0.7247, Val Loss: 2.7754, Val Accuracy: 38.92%\n"
          ]
        },
        {
          "output_type": "stream",
          "name": "stderr",
          "text": []
        },
        {
          "output_type": "stream",
          "name": "stdout",
          "text": [
            "Epoch 198/600, Train Loss: 0.3636, Val Loss: 2.3310, Val Accuracy: 45.98%\n"
          ]
        },
        {
          "output_type": "stream",
          "name": "stderr",
          "text": []
        },
        {
          "output_type": "stream",
          "name": "stdout",
          "text": [
            "Epoch 199/600, Train Loss: 0.1975, Val Loss: 1.9539, Val Accuracy: 53.24%\n"
          ]
        },
        {
          "output_type": "stream",
          "name": "stderr",
          "text": []
        },
        {
          "output_type": "stream",
          "name": "stdout",
          "text": [
            "Epoch 200/600, Train Loss: 0.1101, Val Loss: 1.8770, Val Accuracy: 53.73%\n"
          ]
        },
        {
          "output_type": "stream",
          "name": "stderr",
          "text": []
        },
        {
          "output_type": "stream",
          "name": "stdout",
          "text": [
            "Epoch 201/600, Train Loss: 0.0821, Val Loss: 1.8184, Val Accuracy: 55.59%\n"
          ]
        },
        {
          "output_type": "stream",
          "name": "stderr",
          "text": []
        },
        {
          "output_type": "stream",
          "name": "stdout",
          "text": [
            "Epoch 202/600, Train Loss: 0.0699, Val Loss: 1.7153, Val Accuracy: 56.37%\n"
          ]
        },
        {
          "output_type": "stream",
          "name": "stderr",
          "text": []
        },
        {
          "output_type": "stream",
          "name": "stdout",
          "text": [
            "Epoch 203/600, Train Loss: 0.0596, Val Loss: 1.6880, Val Accuracy: 57.55%\n"
          ]
        },
        {
          "output_type": "stream",
          "name": "stderr",
          "text": []
        },
        {
          "output_type": "stream",
          "name": "stdout",
          "text": [
            "Epoch 204/600, Train Loss: 0.0548, Val Loss: 1.6611, Val Accuracy: 59.12%\n"
          ]
        },
        {
          "output_type": "stream",
          "name": "stderr",
          "text": []
        },
        {
          "output_type": "stream",
          "name": "stdout",
          "text": [
            "Epoch 205/600, Train Loss: 0.0497, Val Loss: 1.6545, Val Accuracy: 59.41%\n"
          ]
        },
        {
          "output_type": "stream",
          "name": "stderr",
          "text": []
        },
        {
          "output_type": "stream",
          "name": "stdout",
          "text": [
            "Epoch 206/600, Train Loss: 0.0523, Val Loss: 1.6329, Val Accuracy: 60.78%\n"
          ]
        },
        {
          "output_type": "stream",
          "name": "stderr",
          "text": []
        },
        {
          "output_type": "stream",
          "name": "stdout",
          "text": [
            "Epoch 207/600, Train Loss: 0.0613, Val Loss: 1.6586, Val Accuracy: 59.41%\n"
          ]
        },
        {
          "output_type": "stream",
          "name": "stderr",
          "text": []
        },
        {
          "output_type": "stream",
          "name": "stdout",
          "text": [
            "Epoch 208/600, Train Loss: 0.0605, Val Loss: 1.6603, Val Accuracy: 60.10%\n"
          ]
        },
        {
          "output_type": "stream",
          "name": "stderr",
          "text": []
        },
        {
          "output_type": "stream",
          "name": "stdout",
          "text": [
            "Epoch 209/600, Train Loss: 0.0612, Val Loss: 1.6627, Val Accuracy: 60.20%\n"
          ]
        },
        {
          "output_type": "stream",
          "name": "stderr",
          "text": []
        },
        {
          "output_type": "stream",
          "name": "stdout",
          "text": [
            "Epoch 210/600, Train Loss: 0.0559, Val Loss: 1.6363, Val Accuracy: 61.37%\n",
            "Saved Best Model with Validation Accuracy: 61.37%\n"
          ]
        },
        {
          "output_type": "stream",
          "name": "stderr",
          "text": []
        },
        {
          "output_type": "stream",
          "name": "stdout",
          "text": [
            "Epoch 211/600, Train Loss: 0.0522, Val Loss: 1.6651, Val Accuracy: 60.39%\n"
          ]
        },
        {
          "output_type": "stream",
          "name": "stderr",
          "text": []
        },
        {
          "output_type": "stream",
          "name": "stdout",
          "text": [
            "Epoch 212/600, Train Loss: 0.0559, Val Loss: 1.6316, Val Accuracy: 60.49%\n"
          ]
        },
        {
          "output_type": "stream",
          "name": "stderr",
          "text": []
        },
        {
          "output_type": "stream",
          "name": "stdout",
          "text": [
            "Epoch 213/600, Train Loss: 0.0548, Val Loss: 1.6483, Val Accuracy: 61.18%\n"
          ]
        },
        {
          "output_type": "stream",
          "name": "stderr",
          "text": []
        },
        {
          "output_type": "stream",
          "name": "stdout",
          "text": [
            "Epoch 214/600, Train Loss: 0.0571, Val Loss: 1.6401, Val Accuracy: 60.49%\n"
          ]
        },
        {
          "output_type": "stream",
          "name": "stderr",
          "text": []
        },
        {
          "output_type": "stream",
          "name": "stdout",
          "text": [
            "Epoch 215/600, Train Loss: 0.0693, Val Loss: 1.7978, Val Accuracy: 56.96%\n"
          ]
        },
        {
          "output_type": "stream",
          "name": "stderr",
          "text": []
        },
        {
          "output_type": "stream",
          "name": "stdout",
          "text": [
            "Epoch 216/600, Train Loss: 0.0828, Val Loss: 1.9052, Val Accuracy: 52.75%\n"
          ]
        },
        {
          "output_type": "stream",
          "name": "stderr",
          "text": []
        },
        {
          "output_type": "stream",
          "name": "stdout",
          "text": [
            "Epoch 217/600, Train Loss: 0.1820, Val Loss: 2.3785, Val Accuracy: 44.31%\n"
          ]
        },
        {
          "output_type": "stream",
          "name": "stderr",
          "text": []
        },
        {
          "output_type": "stream",
          "name": "stdout",
          "text": [
            "Epoch 218/600, Train Loss: 0.6394, Val Loss: 3.7357, Val Accuracy: 31.57%\n"
          ]
        },
        {
          "output_type": "stream",
          "name": "stderr",
          "text": []
        },
        {
          "output_type": "stream",
          "name": "stdout",
          "text": [
            "Epoch 219/600, Train Loss: 0.8422, Val Loss: 2.7435, Val Accuracy: 38.24%\n"
          ]
        },
        {
          "output_type": "stream",
          "name": "stderr",
          "text": []
        },
        {
          "output_type": "stream",
          "name": "stdout",
          "text": [
            "Epoch 220/600, Train Loss: 0.4347, Val Loss: 2.1266, Val Accuracy: 49.22%\n"
          ]
        },
        {
          "output_type": "stream",
          "name": "stderr",
          "text": []
        },
        {
          "output_type": "stream",
          "name": "stdout",
          "text": [
            "Epoch 221/600, Train Loss: 0.2164, Val Loss: 2.0126, Val Accuracy: 52.35%\n"
          ]
        },
        {
          "output_type": "stream",
          "name": "stderr",
          "text": []
        },
        {
          "output_type": "stream",
          "name": "stdout",
          "text": [
            "Epoch 222/600, Train Loss: 0.1248, Val Loss: 1.7934, Val Accuracy: 56.37%\n"
          ]
        },
        {
          "output_type": "stream",
          "name": "stderr",
          "text": []
        },
        {
          "output_type": "stream",
          "name": "stdout",
          "text": [
            "Epoch 223/600, Train Loss: 0.0625, Val Loss: 1.6858, Val Accuracy: 58.92%\n"
          ]
        },
        {
          "output_type": "stream",
          "name": "stderr",
          "text": []
        },
        {
          "output_type": "stream",
          "name": "stdout",
          "text": [
            "Epoch 224/600, Train Loss: 0.0570, Val Loss: 1.6883, Val Accuracy: 58.92%\n"
          ]
        },
        {
          "output_type": "stream",
          "name": "stderr",
          "text": []
        },
        {
          "output_type": "stream",
          "name": "stdout",
          "text": [
            "Epoch 225/600, Train Loss: 0.0563, Val Loss: 1.6514, Val Accuracy: 58.14%\n"
          ]
        },
        {
          "output_type": "stream",
          "name": "stderr",
          "text": []
        },
        {
          "output_type": "stream",
          "name": "stdout",
          "text": [
            "Epoch 226/600, Train Loss: 0.0623, Val Loss: 1.6371, Val Accuracy: 58.33%\n"
          ]
        },
        {
          "output_type": "stream",
          "name": "stderr",
          "text": []
        },
        {
          "output_type": "stream",
          "name": "stdout",
          "text": [
            "Epoch 227/600, Train Loss: 0.0604, Val Loss: 1.6274, Val Accuracy: 59.90%\n"
          ]
        },
        {
          "output_type": "stream",
          "name": "stderr",
          "text": []
        },
        {
          "output_type": "stream",
          "name": "stdout",
          "text": [
            "Epoch 228/600, Train Loss: 0.0585, Val Loss: 1.6256, Val Accuracy: 61.37%\n"
          ]
        },
        {
          "output_type": "stream",
          "name": "stderr",
          "text": []
        },
        {
          "output_type": "stream",
          "name": "stdout",
          "text": [
            "Epoch 229/600, Train Loss: 0.0571, Val Loss: 1.6366, Val Accuracy: 59.80%\n"
          ]
        },
        {
          "output_type": "stream",
          "name": "stderr",
          "text": []
        },
        {
          "output_type": "stream",
          "name": "stdout",
          "text": [
            "Epoch 230/600, Train Loss: 0.0557, Val Loss: 1.6362, Val Accuracy: 60.10%\n"
          ]
        },
        {
          "output_type": "stream",
          "name": "stderr",
          "text": []
        },
        {
          "output_type": "stream",
          "name": "stdout",
          "text": [
            "Epoch 231/600, Train Loss: 0.0582, Val Loss: 1.5917, Val Accuracy: 62.55%\n",
            "Saved Best Model with Validation Accuracy: 62.55%\n"
          ]
        },
        {
          "output_type": "stream",
          "name": "stderr",
          "text": []
        },
        {
          "output_type": "stream",
          "name": "stdout",
          "text": [
            "Epoch 232/600, Train Loss: 0.0658, Val Loss: 1.6247, Val Accuracy: 60.98%\n"
          ]
        },
        {
          "output_type": "stream",
          "name": "stderr",
          "text": []
        },
        {
          "output_type": "stream",
          "name": "stdout",
          "text": [
            "Epoch 233/600, Train Loss: 0.0583, Val Loss: 1.6222, Val Accuracy: 60.78%\n"
          ]
        },
        {
          "output_type": "stream",
          "name": "stderr",
          "text": []
        },
        {
          "output_type": "stream",
          "name": "stdout",
          "text": [
            "Epoch 234/600, Train Loss: 0.0549, Val Loss: 1.5923, Val Accuracy: 60.88%\n"
          ]
        },
        {
          "output_type": "stream",
          "name": "stderr",
          "text": []
        },
        {
          "output_type": "stream",
          "name": "stdout",
          "text": [
            "Epoch 235/600, Train Loss: 0.0643, Val Loss: 1.6442, Val Accuracy: 60.78%\n"
          ]
        },
        {
          "output_type": "stream",
          "name": "stderr",
          "text": []
        },
        {
          "output_type": "stream",
          "name": "stdout",
          "text": [
            "Epoch 236/600, Train Loss: 0.0592, Val Loss: 1.6690, Val Accuracy: 60.39%\n"
          ]
        },
        {
          "output_type": "stream",
          "name": "stderr",
          "text": []
        },
        {
          "output_type": "stream",
          "name": "stdout",
          "text": [
            "Epoch 237/600, Train Loss: 0.0712, Val Loss: 1.6845, Val Accuracy: 59.51%\n"
          ]
        },
        {
          "output_type": "stream",
          "name": "stderr",
          "text": []
        },
        {
          "output_type": "stream",
          "name": "stdout",
          "text": [
            "Epoch 238/600, Train Loss: 0.0696, Val Loss: 1.7160, Val Accuracy: 58.14%\n"
          ]
        },
        {
          "output_type": "stream",
          "name": "stderr",
          "text": []
        },
        {
          "output_type": "stream",
          "name": "stdout",
          "text": [
            "Epoch 239/600, Train Loss: 0.0783, Val Loss: 1.7475, Val Accuracy: 57.75%\n"
          ]
        },
        {
          "output_type": "stream",
          "name": "stderr",
          "text": []
        },
        {
          "output_type": "stream",
          "name": "stdout",
          "text": [
            "Epoch 240/600, Train Loss: 0.1060, Val Loss: 1.9159, Val Accuracy: 54.61%\n"
          ]
        },
        {
          "output_type": "stream",
          "name": "stderr",
          "text": []
        },
        {
          "output_type": "stream",
          "name": "stdout",
          "text": [
            "Epoch 241/600, Train Loss: 0.2312, Val Loss: 2.5264, Val Accuracy: 43.43%\n"
          ]
        },
        {
          "output_type": "stream",
          "name": "stderr",
          "text": []
        },
        {
          "output_type": "stream",
          "name": "stdout",
          "text": [
            "Epoch 242/600, Train Loss: 0.6543, Val Loss: 2.7838, Val Accuracy: 40.20%\n"
          ]
        },
        {
          "output_type": "stream",
          "name": "stderr",
          "text": []
        },
        {
          "output_type": "stream",
          "name": "stdout",
          "text": [
            "Epoch 243/600, Train Loss: 0.6206, Val Loss: 2.6798, Val Accuracy: 39.90%\n"
          ]
        },
        {
          "output_type": "stream",
          "name": "stderr",
          "text": []
        },
        {
          "output_type": "stream",
          "name": "stdout",
          "text": [
            "Epoch 244/600, Train Loss: 0.3460, Val Loss: 2.3116, Val Accuracy: 46.86%\n"
          ]
        },
        {
          "output_type": "stream",
          "name": "stderr",
          "text": []
        },
        {
          "output_type": "stream",
          "name": "stdout",
          "text": [
            "Epoch 245/600, Train Loss: 0.1848, Val Loss: 1.9495, Val Accuracy: 53.04%\n"
          ]
        },
        {
          "output_type": "stream",
          "name": "stderr",
          "text": []
        },
        {
          "output_type": "stream",
          "name": "stdout",
          "text": [
            "Epoch 246/600, Train Loss: 0.1021, Val Loss: 1.8005, Val Accuracy: 55.59%\n"
          ]
        },
        {
          "output_type": "stream",
          "name": "stderr",
          "text": []
        },
        {
          "output_type": "stream",
          "name": "stdout",
          "text": [
            "Epoch 247/600, Train Loss: 0.0667, Val Loss: 1.7066, Val Accuracy: 57.75%\n"
          ]
        },
        {
          "output_type": "stream",
          "name": "stderr",
          "text": []
        },
        {
          "output_type": "stream",
          "name": "stdout",
          "text": [
            "Epoch 248/600, Train Loss: 0.0616, Val Loss: 1.7176, Val Accuracy: 58.53%\n"
          ]
        },
        {
          "output_type": "stream",
          "name": "stderr",
          "text": []
        },
        {
          "output_type": "stream",
          "name": "stdout",
          "text": [
            "Epoch 249/600, Train Loss: 0.0615, Val Loss: 1.6598, Val Accuracy: 60.78%\n"
          ]
        },
        {
          "output_type": "stream",
          "name": "stderr",
          "text": []
        },
        {
          "output_type": "stream",
          "name": "stdout",
          "text": [
            "Epoch 250/600, Train Loss: 0.0586, Val Loss: 1.6384, Val Accuracy: 60.29%\n"
          ]
        },
        {
          "output_type": "stream",
          "name": "stderr",
          "text": []
        },
        {
          "output_type": "stream",
          "name": "stdout",
          "text": [
            "Epoch 251/600, Train Loss: 0.0617, Val Loss: 1.6482, Val Accuracy: 60.88%\n"
          ]
        },
        {
          "output_type": "stream",
          "name": "stderr",
          "text": []
        },
        {
          "output_type": "stream",
          "name": "stdout",
          "text": [
            "Epoch 252/600, Train Loss: 0.0610, Val Loss: 1.6238, Val Accuracy: 61.76%\n"
          ]
        },
        {
          "output_type": "stream",
          "name": "stderr",
          "text": []
        },
        {
          "output_type": "stream",
          "name": "stdout",
          "text": [
            "Epoch 253/600, Train Loss: 0.0618, Val Loss: 1.6099, Val Accuracy: 61.86%\n"
          ]
        },
        {
          "output_type": "stream",
          "name": "stderr",
          "text": []
        },
        {
          "output_type": "stream",
          "name": "stdout",
          "text": [
            "Epoch 254/600, Train Loss: 0.0725, Val Loss: 1.6827, Val Accuracy: 59.51%\n"
          ]
        },
        {
          "output_type": "stream",
          "name": "stderr",
          "text": []
        },
        {
          "output_type": "stream",
          "name": "stdout",
          "text": [
            "Epoch 255/600, Train Loss: 0.0606, Val Loss: 1.6326, Val Accuracy: 61.76%\n"
          ]
        },
        {
          "output_type": "stream",
          "name": "stderr",
          "text": []
        },
        {
          "output_type": "stream",
          "name": "stdout",
          "text": [
            "Epoch 256/600, Train Loss: 0.0543, Val Loss: 1.6333, Val Accuracy: 61.37%\n"
          ]
        },
        {
          "output_type": "stream",
          "name": "stderr",
          "text": []
        },
        {
          "output_type": "stream",
          "name": "stdout",
          "text": [
            "Epoch 257/600, Train Loss: 0.0567, Val Loss: 1.6051, Val Accuracy: 62.94%\n",
            "Saved Best Model with Validation Accuracy: 62.94%\n"
          ]
        },
        {
          "output_type": "stream",
          "name": "stderr",
          "text": []
        },
        {
          "output_type": "stream",
          "name": "stdout",
          "text": [
            "Epoch 258/600, Train Loss: 0.0590, Val Loss: 1.6157, Val Accuracy: 61.96%\n"
          ]
        },
        {
          "output_type": "stream",
          "name": "stderr",
          "text": []
        },
        {
          "output_type": "stream",
          "name": "stdout",
          "text": [
            "Epoch 259/600, Train Loss: 0.0602, Val Loss: 1.6327, Val Accuracy: 62.25%\n"
          ]
        },
        {
          "output_type": "stream",
          "name": "stderr",
          "text": []
        },
        {
          "output_type": "stream",
          "name": "stdout",
          "text": [
            "Epoch 260/600, Train Loss: 0.0625, Val Loss: 1.6313, Val Accuracy: 62.65%\n"
          ]
        },
        {
          "output_type": "stream",
          "name": "stderr",
          "text": []
        },
        {
          "output_type": "stream",
          "name": "stdout",
          "text": [
            "Epoch 261/600, Train Loss: 0.0603, Val Loss: 1.6441, Val Accuracy: 61.27%\n"
          ]
        },
        {
          "output_type": "stream",
          "name": "stderr",
          "text": []
        },
        {
          "output_type": "stream",
          "name": "stdout",
          "text": [
            "Epoch 262/600, Train Loss: 0.0633, Val Loss: 1.6405, Val Accuracy: 62.16%\n"
          ]
        },
        {
          "output_type": "stream",
          "name": "stderr",
          "text": []
        },
        {
          "output_type": "stream",
          "name": "stdout",
          "text": [
            "Epoch 263/600, Train Loss: 0.0763, Val Loss: 1.7272, Val Accuracy: 57.84%\n"
          ]
        },
        {
          "output_type": "stream",
          "name": "stderr",
          "text": []
        },
        {
          "output_type": "stream",
          "name": "stdout",
          "text": [
            "Epoch 264/600, Train Loss: 0.1022, Val Loss: 2.0639, Val Accuracy: 51.37%\n"
          ]
        },
        {
          "output_type": "stream",
          "name": "stderr",
          "text": []
        },
        {
          "output_type": "stream",
          "name": "stdout",
          "text": [
            "Epoch 265/600, Train Loss: 0.3212, Val Loss: 3.4792, Val Accuracy: 31.47%\n"
          ]
        },
        {
          "output_type": "stream",
          "name": "stderr",
          "text": []
        },
        {
          "output_type": "stream",
          "name": "stdout",
          "text": [
            "Epoch 266/600, Train Loss: 0.7553, Val Loss: 3.2524, Val Accuracy: 32.25%\n"
          ]
        },
        {
          "output_type": "stream",
          "name": "stderr",
          "text": []
        },
        {
          "output_type": "stream",
          "name": "stdout",
          "text": [
            "Epoch 267/600, Train Loss: 0.6145, Val Loss: 2.2967, Val Accuracy: 44.90%\n"
          ]
        },
        {
          "output_type": "stream",
          "name": "stderr",
          "text": []
        },
        {
          "output_type": "stream",
          "name": "stdout",
          "text": [
            "Epoch 268/600, Train Loss: 0.3333, Val Loss: 2.1418, Val Accuracy: 51.18%\n"
          ]
        },
        {
          "output_type": "stream",
          "name": "stderr",
          "text": []
        },
        {
          "output_type": "stream",
          "name": "stdout",
          "text": [
            "Epoch 269/600, Train Loss: 0.1478, Val Loss: 1.8883, Val Accuracy: 54.90%\n"
          ]
        },
        {
          "output_type": "stream",
          "name": "stderr",
          "text": []
        },
        {
          "output_type": "stream",
          "name": "stdout",
          "text": [
            "Epoch 270/600, Train Loss: 0.0862, Val Loss: 1.7272, Val Accuracy: 56.47%\n"
          ]
        },
        {
          "output_type": "stream",
          "name": "stderr",
          "text": []
        },
        {
          "output_type": "stream",
          "name": "stdout",
          "text": [
            "Epoch 271/600, Train Loss: 0.0636, Val Loss: 1.6379, Val Accuracy: 59.61%\n"
          ]
        },
        {
          "output_type": "stream",
          "name": "stderr",
          "text": []
        },
        {
          "output_type": "stream",
          "name": "stdout",
          "text": [
            "Epoch 272/600, Train Loss: 0.0608, Val Loss: 1.6004, Val Accuracy: 60.69%\n"
          ]
        },
        {
          "output_type": "stream",
          "name": "stderr",
          "text": []
        },
        {
          "output_type": "stream",
          "name": "stdout",
          "text": [
            "Epoch 273/600, Train Loss: 0.0635, Val Loss: 1.6054, Val Accuracy: 61.27%\n"
          ]
        },
        {
          "output_type": "stream",
          "name": "stderr",
          "text": []
        },
        {
          "output_type": "stream",
          "name": "stdout",
          "text": [
            "Epoch 274/600, Train Loss: 0.0668, Val Loss: 1.5913, Val Accuracy: 61.57%\n"
          ]
        },
        {
          "output_type": "stream",
          "name": "stderr",
          "text": []
        },
        {
          "output_type": "stream",
          "name": "stdout",
          "text": [
            "Epoch 275/600, Train Loss: 0.0676, Val Loss: 1.6014, Val Accuracy: 61.96%\n"
          ]
        },
        {
          "output_type": "stream",
          "name": "stderr",
          "text": []
        },
        {
          "output_type": "stream",
          "name": "stdout",
          "text": [
            "Epoch 276/600, Train Loss: 0.0597, Val Loss: 1.5887, Val Accuracy: 62.45%\n"
          ]
        },
        {
          "output_type": "stream",
          "name": "stderr",
          "text": []
        },
        {
          "output_type": "stream",
          "name": "stdout",
          "text": [
            "Epoch 277/600, Train Loss: 0.0609, Val Loss: 1.5999, Val Accuracy: 62.45%\n"
          ]
        },
        {
          "output_type": "stream",
          "name": "stderr",
          "text": []
        },
        {
          "output_type": "stream",
          "name": "stdout",
          "text": [
            "Epoch 278/600, Train Loss: 0.0666, Val Loss: 1.5831, Val Accuracy: 62.75%\n"
          ]
        },
        {
          "output_type": "stream",
          "name": "stderr",
          "text": []
        },
        {
          "output_type": "stream",
          "name": "stdout",
          "text": [
            "Epoch 279/600, Train Loss: 0.0629, Val Loss: 1.6201, Val Accuracy: 62.94%\n"
          ]
        },
        {
          "output_type": "stream",
          "name": "stderr",
          "text": []
        },
        {
          "output_type": "stream",
          "name": "stdout",
          "text": [
            "Epoch 280/600, Train Loss: 0.0647, Val Loss: 1.6029, Val Accuracy: 60.78%\n"
          ]
        },
        {
          "output_type": "stream",
          "name": "stderr",
          "text": []
        },
        {
          "output_type": "stream",
          "name": "stdout",
          "text": [
            "Epoch 281/600, Train Loss: 0.0580, Val Loss: 1.6079, Val Accuracy: 62.06%\n"
          ]
        },
        {
          "output_type": "stream",
          "name": "stderr",
          "text": []
        },
        {
          "output_type": "stream",
          "name": "stdout",
          "text": [
            "Epoch 282/600, Train Loss: 0.0581, Val Loss: 1.6151, Val Accuracy: 63.43%\n",
            "Saved Best Model with Validation Accuracy: 63.43%\n"
          ]
        },
        {
          "output_type": "stream",
          "name": "stderr",
          "text": []
        },
        {
          "output_type": "stream",
          "name": "stdout",
          "text": [
            "Epoch 283/600, Train Loss: 0.0677, Val Loss: 1.6526, Val Accuracy: 61.27%\n"
          ]
        },
        {
          "output_type": "stream",
          "name": "stderr",
          "text": []
        },
        {
          "output_type": "stream",
          "name": "stdout",
          "text": [
            "Epoch 284/600, Train Loss: 0.0589, Val Loss: 1.6431, Val Accuracy: 60.88%\n"
          ]
        },
        {
          "output_type": "stream",
          "name": "stderr",
          "text": []
        },
        {
          "output_type": "stream",
          "name": "stdout",
          "text": [
            "Epoch 285/600, Train Loss: 0.0785, Val Loss: 1.8126, Val Accuracy: 56.96%\n"
          ]
        },
        {
          "output_type": "stream",
          "name": "stderr",
          "text": []
        },
        {
          "output_type": "stream",
          "name": "stdout",
          "text": [
            "Epoch 286/600, Train Loss: 0.1148, Val Loss: 1.8276, Val Accuracy: 56.86%\n"
          ]
        },
        {
          "output_type": "stream",
          "name": "stderr",
          "text": []
        },
        {
          "output_type": "stream",
          "name": "stdout",
          "text": [
            "Epoch 287/600, Train Loss: 0.1241, Val Loss: 1.9803, Val Accuracy: 53.63%\n"
          ]
        },
        {
          "output_type": "stream",
          "name": "stderr",
          "text": []
        },
        {
          "output_type": "stream",
          "name": "stdout",
          "text": [
            "Epoch 288/600, Train Loss: 0.2116, Val Loss: 2.4942, Val Accuracy: 43.63%\n"
          ]
        },
        {
          "output_type": "stream",
          "name": "stderr",
          "text": []
        },
        {
          "output_type": "stream",
          "name": "stdout",
          "text": [
            "Epoch 289/600, Train Loss: 0.4365, Val Loss: 2.7565, Val Accuracy: 40.88%\n"
          ]
        },
        {
          "output_type": "stream",
          "name": "stderr",
          "text": []
        },
        {
          "output_type": "stream",
          "name": "stdout",
          "text": [
            "Epoch 290/600, Train Loss: 0.5294, Val Loss: 2.8687, Val Accuracy: 36.76%\n"
          ]
        },
        {
          "output_type": "stream",
          "name": "stderr",
          "text": []
        },
        {
          "output_type": "stream",
          "name": "stdout",
          "text": [
            "Epoch 291/600, Train Loss: 0.3244, Val Loss: 2.1280, Val Accuracy: 48.92%\n"
          ]
        },
        {
          "output_type": "stream",
          "name": "stderr",
          "text": []
        },
        {
          "output_type": "stream",
          "name": "stdout",
          "text": [
            "Epoch 292/600, Train Loss: 0.1394, Val Loss: 1.9069, Val Accuracy: 54.41%\n"
          ]
        },
        {
          "output_type": "stream",
          "name": "stderr",
          "text": []
        },
        {
          "output_type": "stream",
          "name": "stdout",
          "text": [
            "Epoch 293/600, Train Loss: 0.0793, Val Loss: 1.6732, Val Accuracy: 59.51%\n"
          ]
        },
        {
          "output_type": "stream",
          "name": "stderr",
          "text": []
        },
        {
          "output_type": "stream",
          "name": "stdout",
          "text": [
            "Epoch 294/600, Train Loss: 0.0605, Val Loss: 1.6640, Val Accuracy: 58.53%\n"
          ]
        },
        {
          "output_type": "stream",
          "name": "stderr",
          "text": []
        },
        {
          "output_type": "stream",
          "name": "stdout",
          "text": [
            "Epoch 295/600, Train Loss: 0.0597, Val Loss: 1.6267, Val Accuracy: 59.22%\n"
          ]
        },
        {
          "output_type": "stream",
          "name": "stderr",
          "text": []
        },
        {
          "output_type": "stream",
          "name": "stdout",
          "text": [
            "Epoch 296/600, Train Loss: 0.0627, Val Loss: 1.6266, Val Accuracy: 60.69%\n"
          ]
        },
        {
          "output_type": "stream",
          "name": "stderr",
          "text": []
        },
        {
          "output_type": "stream",
          "name": "stdout",
          "text": [
            "Epoch 297/600, Train Loss: 0.0612, Val Loss: 1.6277, Val Accuracy: 61.86%\n"
          ]
        },
        {
          "output_type": "stream",
          "name": "stderr",
          "text": []
        },
        {
          "output_type": "stream",
          "name": "stdout",
          "text": [
            "Epoch 298/600, Train Loss: 0.0646, Val Loss: 1.6307, Val Accuracy: 61.57%\n"
          ]
        },
        {
          "output_type": "stream",
          "name": "stderr",
          "text": []
        },
        {
          "output_type": "stream",
          "name": "stdout",
          "text": [
            "Epoch 299/600, Train Loss: 0.0621, Val Loss: 1.6176, Val Accuracy: 60.98%\n"
          ]
        },
        {
          "output_type": "stream",
          "name": "stderr",
          "text": []
        },
        {
          "output_type": "stream",
          "name": "stdout",
          "text": [
            "Epoch 300/600, Train Loss: 0.0582, Val Loss: 1.6114, Val Accuracy: 61.37%\n"
          ]
        },
        {
          "output_type": "stream",
          "name": "stderr",
          "text": []
        },
        {
          "output_type": "stream",
          "name": "stdout",
          "text": [
            "Epoch 301/600, Train Loss: 0.0607, Val Loss: 1.5944, Val Accuracy: 62.45%\n"
          ]
        },
        {
          "output_type": "stream",
          "name": "stderr",
          "text": []
        },
        {
          "output_type": "stream",
          "name": "stdout",
          "text": [
            "Epoch 302/600, Train Loss: 0.0606, Val Loss: 1.5830, Val Accuracy: 63.24%\n"
          ]
        },
        {
          "output_type": "stream",
          "name": "stderr",
          "text": []
        },
        {
          "output_type": "stream",
          "name": "stdout",
          "text": [
            "Epoch 303/600, Train Loss: 0.0585, Val Loss: 1.6203, Val Accuracy: 62.94%\n"
          ]
        },
        {
          "output_type": "stream",
          "name": "stderr",
          "text": []
        },
        {
          "output_type": "stream",
          "name": "stdout",
          "text": [
            "Epoch 304/600, Train Loss: 0.0657, Val Loss: 1.6212, Val Accuracy: 62.55%\n"
          ]
        },
        {
          "output_type": "stream",
          "name": "stderr",
          "text": []
        },
        {
          "output_type": "stream",
          "name": "stdout",
          "text": [
            "Epoch 305/600, Train Loss: 0.0612, Val Loss: 1.6346, Val Accuracy: 61.57%\n"
          ]
        },
        {
          "output_type": "stream",
          "name": "stderr",
          "text": []
        },
        {
          "output_type": "stream",
          "name": "stdout",
          "text": [
            "Epoch 306/600, Train Loss: 0.0602, Val Loss: 1.6240, Val Accuracy: 62.55%\n"
          ]
        },
        {
          "output_type": "stream",
          "name": "stderr",
          "text": []
        },
        {
          "output_type": "stream",
          "name": "stdout",
          "text": [
            "Epoch 307/600, Train Loss: 0.0612, Val Loss: 1.5966, Val Accuracy: 62.55%\n"
          ]
        },
        {
          "output_type": "stream",
          "name": "stderr",
          "text": []
        },
        {
          "output_type": "stream",
          "name": "stdout",
          "text": [
            "Epoch 308/600, Train Loss: 0.0602, Val Loss: 1.6223, Val Accuracy: 61.76%\n"
          ]
        },
        {
          "output_type": "stream",
          "name": "stderr",
          "text": []
        },
        {
          "output_type": "stream",
          "name": "stdout",
          "text": [
            "Epoch 309/600, Train Loss: 0.0665, Val Loss: 1.6423, Val Accuracy: 61.96%\n"
          ]
        },
        {
          "output_type": "stream",
          "name": "stderr",
          "text": []
        },
        {
          "output_type": "stream",
          "name": "stdout",
          "text": [
            "Epoch 310/600, Train Loss: 0.0759, Val Loss: 1.6665, Val Accuracy: 59.41%\n"
          ]
        },
        {
          "output_type": "stream",
          "name": "stderr",
          "text": []
        },
        {
          "output_type": "stream",
          "name": "stdout",
          "text": [
            "Epoch 311/600, Train Loss: 0.0875, Val Loss: 1.8995, Val Accuracy: 55.49%\n"
          ]
        },
        {
          "output_type": "stream",
          "name": "stderr",
          "text": []
        },
        {
          "output_type": "stream",
          "name": "stdout",
          "text": [
            "Epoch 312/600, Train Loss: 0.2407, Val Loss: 3.0513, Val Accuracy: 32.75%\n"
          ]
        },
        {
          "output_type": "stream",
          "name": "stderr",
          "text": []
        },
        {
          "output_type": "stream",
          "name": "stdout",
          "text": [
            "Epoch 313/600, Train Loss: 0.7457, Val Loss: 3.2774, Val Accuracy: 35.39%\n"
          ]
        },
        {
          "output_type": "stream",
          "name": "stderr",
          "text": []
        },
        {
          "output_type": "stream",
          "name": "stdout",
          "text": [
            "Epoch 314/600, Train Loss: 0.8111, Val Loss: 2.8691, Val Accuracy: 37.75%\n"
          ]
        },
        {
          "output_type": "stream",
          "name": "stderr",
          "text": []
        },
        {
          "output_type": "stream",
          "name": "stdout",
          "text": [
            "Epoch 315/600, Train Loss: 0.3683, Val Loss: 2.1167, Val Accuracy: 49.90%\n"
          ]
        },
        {
          "output_type": "stream",
          "name": "stderr",
          "text": []
        },
        {
          "output_type": "stream",
          "name": "stdout",
          "text": [
            "Epoch 316/600, Train Loss: 0.1753, Val Loss: 1.8369, Val Accuracy: 55.39%\n"
          ]
        },
        {
          "output_type": "stream",
          "name": "stderr",
          "text": []
        },
        {
          "output_type": "stream",
          "name": "stdout",
          "text": [
            "Epoch 317/600, Train Loss: 0.1117, Val Loss: 1.7467, Val Accuracy: 56.27%\n"
          ]
        },
        {
          "output_type": "stream",
          "name": "stderr",
          "text": []
        },
        {
          "output_type": "stream",
          "name": "stdout",
          "text": [
            "Epoch 318/600, Train Loss: 0.0821, Val Loss: 1.7268, Val Accuracy: 57.65%\n"
          ]
        },
        {
          "output_type": "stream",
          "name": "stderr",
          "text": []
        },
        {
          "output_type": "stream",
          "name": "stdout",
          "text": [
            "Epoch 319/600, Train Loss: 0.0717, Val Loss: 1.6301, Val Accuracy: 60.59%\n"
          ]
        },
        {
          "output_type": "stream",
          "name": "stderr",
          "text": []
        },
        {
          "output_type": "stream",
          "name": "stdout",
          "text": [
            "Epoch 320/600, Train Loss: 0.0675, Val Loss: 1.6162, Val Accuracy: 61.76%\n"
          ]
        },
        {
          "output_type": "stream",
          "name": "stderr",
          "text": []
        },
        {
          "output_type": "stream",
          "name": "stdout",
          "text": [
            "Epoch 321/600, Train Loss: 0.0676, Val Loss: 1.6188, Val Accuracy: 61.76%\n"
          ]
        },
        {
          "output_type": "stream",
          "name": "stderr",
          "text": []
        },
        {
          "output_type": "stream",
          "name": "stdout",
          "text": [
            "Epoch 322/600, Train Loss: 0.0701, Val Loss: 1.5947, Val Accuracy: 61.76%\n"
          ]
        },
        {
          "output_type": "stream",
          "name": "stderr",
          "text": []
        },
        {
          "output_type": "stream",
          "name": "stdout",
          "text": [
            "Epoch 323/600, Train Loss: 0.0586, Val Loss: 1.5755, Val Accuracy: 62.25%\n"
          ]
        },
        {
          "output_type": "stream",
          "name": "stderr",
          "text": []
        },
        {
          "output_type": "stream",
          "name": "stdout",
          "text": [
            "Epoch 324/600, Train Loss: 0.0634, Val Loss: 1.5934, Val Accuracy: 62.45%\n"
          ]
        },
        {
          "output_type": "stream",
          "name": "stderr",
          "text": []
        },
        {
          "output_type": "stream",
          "name": "stdout",
          "text": [
            "Epoch 325/600, Train Loss: 0.0647, Val Loss: 1.6210, Val Accuracy: 61.86%\n"
          ]
        },
        {
          "output_type": "stream",
          "name": "stderr",
          "text": []
        },
        {
          "output_type": "stream",
          "name": "stdout",
          "text": [
            "Epoch 326/600, Train Loss: 0.0644, Val Loss: 1.5782, Val Accuracy: 62.35%\n"
          ]
        },
        {
          "output_type": "stream",
          "name": "stderr",
          "text": []
        },
        {
          "output_type": "stream",
          "name": "stdout",
          "text": [
            "Epoch 327/600, Train Loss: 0.0612, Val Loss: 1.6053, Val Accuracy: 62.75%\n"
          ]
        },
        {
          "output_type": "stream",
          "name": "stderr",
          "text": []
        },
        {
          "output_type": "stream",
          "name": "stdout",
          "text": [
            "Epoch 328/600, Train Loss: 0.0615, Val Loss: 1.6179, Val Accuracy: 61.76%\n"
          ]
        },
        {
          "output_type": "stream",
          "name": "stderr",
          "text": []
        },
        {
          "output_type": "stream",
          "name": "stdout",
          "text": [
            "Epoch 329/600, Train Loss: 0.0630, Val Loss: 1.6240, Val Accuracy: 61.57%\n"
          ]
        },
        {
          "output_type": "stream",
          "name": "stderr",
          "text": []
        },
        {
          "output_type": "stream",
          "name": "stdout",
          "text": [
            "Epoch 330/600, Train Loss: 0.0624, Val Loss: 1.5925, Val Accuracy: 62.65%\n"
          ]
        },
        {
          "output_type": "stream",
          "name": "stderr",
          "text": []
        },
        {
          "output_type": "stream",
          "name": "stdout",
          "text": [
            "Epoch 331/600, Train Loss: 0.0622, Val Loss: 1.6090, Val Accuracy: 61.57%\n"
          ]
        },
        {
          "output_type": "stream",
          "name": "stderr",
          "text": []
        },
        {
          "output_type": "stream",
          "name": "stdout",
          "text": [
            "Epoch 332/600, Train Loss: 0.0597, Val Loss: 1.5939, Val Accuracy: 63.04%\n"
          ]
        },
        {
          "output_type": "stream",
          "name": "stderr",
          "text": []
        },
        {
          "output_type": "stream",
          "name": "stdout",
          "text": [
            "Epoch 333/600, Train Loss: 0.0714, Val Loss: 1.6602, Val Accuracy: 62.16%\n"
          ]
        },
        {
          "output_type": "stream",
          "name": "stderr",
          "text": []
        },
        {
          "output_type": "stream",
          "name": "stdout",
          "text": [
            "Epoch 334/600, Train Loss: 0.0883, Val Loss: 1.5996, Val Accuracy: 61.86%\n"
          ]
        },
        {
          "output_type": "stream",
          "name": "stderr",
          "text": []
        },
        {
          "output_type": "stream",
          "name": "stdout",
          "text": [
            "Epoch 335/600, Train Loss: 0.0666, Val Loss: 1.6212, Val Accuracy: 61.37%\n"
          ]
        },
        {
          "output_type": "stream",
          "name": "stderr",
          "text": []
        },
        {
          "output_type": "stream",
          "name": "stdout",
          "text": [
            "Epoch 336/600, Train Loss: 0.0680, Val Loss: 1.6162, Val Accuracy: 61.96%\n"
          ]
        },
        {
          "output_type": "stream",
          "name": "stderr",
          "text": []
        },
        {
          "output_type": "stream",
          "name": "stdout",
          "text": [
            "Epoch 337/600, Train Loss: 0.0820, Val Loss: 1.8317, Val Accuracy: 57.25%\n"
          ]
        },
        {
          "output_type": "stream",
          "name": "stderr",
          "text": []
        },
        {
          "output_type": "stream",
          "name": "stdout",
          "text": [
            "Epoch 338/600, Train Loss: 0.1283, Val Loss: 1.8943, Val Accuracy: 54.51%\n"
          ]
        },
        {
          "output_type": "stream",
          "name": "stderr",
          "text": []
        },
        {
          "output_type": "stream",
          "name": "stdout",
          "text": [
            "Epoch 339/600, Train Loss: 0.2055, Val Loss: 2.3687, Val Accuracy: 44.02%\n"
          ]
        },
        {
          "output_type": "stream",
          "name": "stderr",
          "text": []
        },
        {
          "output_type": "stream",
          "name": "stdout",
          "text": [
            "Epoch 340/600, Train Loss: 0.5175, Val Loss: 2.7161, Val Accuracy: 40.20%\n"
          ]
        },
        {
          "output_type": "stream",
          "name": "stderr",
          "text": []
        },
        {
          "output_type": "stream",
          "name": "stdout",
          "text": [
            "Epoch 341/600, Train Loss: 0.4896, Val Loss: 2.4209, Val Accuracy: 45.29%\n"
          ]
        },
        {
          "output_type": "stream",
          "name": "stderr",
          "text": []
        },
        {
          "output_type": "stream",
          "name": "stdout",
          "text": [
            "Epoch 342/600, Train Loss: 0.2946, Val Loss: 2.0268, Val Accuracy: 52.06%\n"
          ]
        },
        {
          "output_type": "stream",
          "name": "stderr",
          "text": []
        },
        {
          "output_type": "stream",
          "name": "stdout",
          "text": [
            "Epoch 343/600, Train Loss: 0.1497, Val Loss: 1.8575, Val Accuracy: 55.59%\n"
          ]
        },
        {
          "output_type": "stream",
          "name": "stderr",
          "text": []
        },
        {
          "output_type": "stream",
          "name": "stdout",
          "text": [
            "Epoch 344/600, Train Loss: 0.0974, Val Loss: 1.8280, Val Accuracy: 55.88%\n"
          ]
        },
        {
          "output_type": "stream",
          "name": "stderr",
          "text": []
        },
        {
          "output_type": "stream",
          "name": "stdout",
          "text": [
            "Epoch 345/600, Train Loss: 0.0702, Val Loss: 1.6578, Val Accuracy: 60.29%\n"
          ]
        },
        {
          "output_type": "stream",
          "name": "stderr",
          "text": []
        },
        {
          "output_type": "stream",
          "name": "stdout",
          "text": [
            "Epoch 346/600, Train Loss: 0.0668, Val Loss: 1.6735, Val Accuracy: 60.88%\n"
          ]
        },
        {
          "output_type": "stream",
          "name": "stderr",
          "text": []
        },
        {
          "output_type": "stream",
          "name": "stdout",
          "text": [
            "Epoch 347/600, Train Loss: 0.0596, Val Loss: 1.6174, Val Accuracy: 61.96%\n"
          ]
        },
        {
          "output_type": "stream",
          "name": "stderr",
          "text": []
        },
        {
          "output_type": "stream",
          "name": "stdout",
          "text": [
            "Epoch 348/600, Train Loss: 0.0660, Val Loss: 1.6210, Val Accuracy: 61.67%\n"
          ]
        },
        {
          "output_type": "stream",
          "name": "stderr",
          "text": []
        },
        {
          "output_type": "stream",
          "name": "stdout",
          "text": [
            "Epoch 349/600, Train Loss: 0.0657, Val Loss: 1.6255, Val Accuracy: 61.57%\n"
          ]
        },
        {
          "output_type": "stream",
          "name": "stderr",
          "text": []
        },
        {
          "output_type": "stream",
          "name": "stdout",
          "text": [
            "Epoch 350/600, Train Loss: 0.0626, Val Loss: 1.6053, Val Accuracy: 63.04%\n"
          ]
        },
        {
          "output_type": "stream",
          "name": "stderr",
          "text": []
        },
        {
          "output_type": "stream",
          "name": "stdout",
          "text": [
            "Epoch 351/600, Train Loss: 0.0606, Val Loss: 1.5984, Val Accuracy: 62.75%\n"
          ]
        },
        {
          "output_type": "stream",
          "name": "stderr",
          "text": []
        },
        {
          "output_type": "stream",
          "name": "stdout",
          "text": [
            "Epoch 352/600, Train Loss: 0.0589, Val Loss: 1.5873, Val Accuracy: 62.94%\n"
          ]
        },
        {
          "output_type": "stream",
          "name": "stderr",
          "text": []
        },
        {
          "output_type": "stream",
          "name": "stdout",
          "text": [
            "Epoch 353/600, Train Loss: 0.0592, Val Loss: 1.6144, Val Accuracy: 62.65%\n"
          ]
        },
        {
          "output_type": "stream",
          "name": "stderr",
          "text": []
        },
        {
          "output_type": "stream",
          "name": "stdout",
          "text": [
            "Epoch 354/600, Train Loss: 0.0613, Val Loss: 1.6407, Val Accuracy: 62.25%\n"
          ]
        },
        {
          "output_type": "stream",
          "name": "stderr",
          "text": []
        },
        {
          "output_type": "stream",
          "name": "stdout",
          "text": [
            "Epoch 355/600, Train Loss: 0.0601, Val Loss: 1.5897, Val Accuracy: 64.51%\n",
            "Saved Best Model with Validation Accuracy: 64.51%\n"
          ]
        },
        {
          "output_type": "stream",
          "name": "stderr",
          "text": []
        },
        {
          "output_type": "stream",
          "name": "stdout",
          "text": [
            "Epoch 356/600, Train Loss: 0.0643, Val Loss: 1.6274, Val Accuracy: 63.04%\n"
          ]
        },
        {
          "output_type": "stream",
          "name": "stderr",
          "text": []
        },
        {
          "output_type": "stream",
          "name": "stdout",
          "text": [
            "Epoch 357/600, Train Loss: 0.0619, Val Loss: 1.6323, Val Accuracy: 62.06%\n"
          ]
        },
        {
          "output_type": "stream",
          "name": "stderr",
          "text": []
        },
        {
          "output_type": "stream",
          "name": "stdout",
          "text": [
            "Epoch 358/600, Train Loss: 0.0637, Val Loss: 1.6174, Val Accuracy: 62.84%\n"
          ]
        },
        {
          "output_type": "stream",
          "name": "stderr",
          "text": []
        },
        {
          "output_type": "stream",
          "name": "stdout",
          "text": [
            "Epoch 359/600, Train Loss: 0.0632, Val Loss: 1.6301, Val Accuracy: 62.55%\n"
          ]
        },
        {
          "output_type": "stream",
          "name": "stderr",
          "text": []
        },
        {
          "output_type": "stream",
          "name": "stdout",
          "text": [
            "Epoch 360/600, Train Loss: 0.0574, Val Loss: 1.6177, Val Accuracy: 63.04%\n"
          ]
        },
        {
          "output_type": "stream",
          "name": "stderr",
          "text": []
        },
        {
          "output_type": "stream",
          "name": "stdout",
          "text": [
            "Epoch 361/600, Train Loss: 0.0686, Val Loss: 1.6921, Val Accuracy: 61.18%\n"
          ]
        },
        {
          "output_type": "stream",
          "name": "stderr",
          "text": []
        },
        {
          "output_type": "stream",
          "name": "stdout",
          "text": [
            "Epoch 362/600, Train Loss: 0.0756, Val Loss: 1.6746, Val Accuracy: 61.18%\n"
          ]
        },
        {
          "output_type": "stream",
          "name": "stderr",
          "text": []
        },
        {
          "output_type": "stream",
          "name": "stdout",
          "text": [
            "Epoch 363/600, Train Loss: 0.0760, Val Loss: 1.7265, Val Accuracy: 57.75%\n"
          ]
        },
        {
          "output_type": "stream",
          "name": "stderr",
          "text": []
        },
        {
          "output_type": "stream",
          "name": "stdout",
          "text": [
            "Epoch 364/600, Train Loss: 0.0790, Val Loss: 1.6690, Val Accuracy: 61.18%\n"
          ]
        },
        {
          "output_type": "stream",
          "name": "stderr",
          "text": []
        },
        {
          "output_type": "stream",
          "name": "stdout",
          "text": [
            "Epoch 365/600, Train Loss: 0.1477, Val Loss: 2.2656, Val Accuracy: 48.53%\n"
          ]
        },
        {
          "output_type": "stream",
          "name": "stderr",
          "text": []
        },
        {
          "output_type": "stream",
          "name": "stdout",
          "text": [
            "Epoch 366/600, Train Loss: 0.4125, Val Loss: 2.9833, Val Accuracy: 35.49%\n"
          ]
        },
        {
          "output_type": "stream",
          "name": "stderr",
          "text": []
        },
        {
          "output_type": "stream",
          "name": "stdout",
          "text": [
            "Epoch 367/600, Train Loss: 0.6293, Val Loss: 2.8951, Val Accuracy: 37.06%\n"
          ]
        },
        {
          "output_type": "stream",
          "name": "stderr",
          "text": []
        },
        {
          "output_type": "stream",
          "name": "stdout",
          "text": [
            "Epoch 368/600, Train Loss: 0.4377, Val Loss: 2.2418, Val Accuracy: 48.53%\n"
          ]
        },
        {
          "output_type": "stream",
          "name": "stderr",
          "text": []
        },
        {
          "output_type": "stream",
          "name": "stdout",
          "text": [
            "Epoch 369/600, Train Loss: 0.2026, Val Loss: 1.9214, Val Accuracy: 54.80%\n"
          ]
        },
        {
          "output_type": "stream",
          "name": "stderr",
          "text": []
        },
        {
          "output_type": "stream",
          "name": "stdout",
          "text": [
            "Epoch 370/600, Train Loss: 0.1175, Val Loss: 1.8541, Val Accuracy: 55.39%\n"
          ]
        },
        {
          "output_type": "stream",
          "name": "stderr",
          "text": []
        },
        {
          "output_type": "stream",
          "name": "stdout",
          "text": [
            "Epoch 371/600, Train Loss: 0.0741, Val Loss: 1.6721, Val Accuracy: 60.10%\n"
          ]
        },
        {
          "output_type": "stream",
          "name": "stderr",
          "text": []
        },
        {
          "output_type": "stream",
          "name": "stdout",
          "text": [
            "Epoch 372/600, Train Loss: 0.0644, Val Loss: 1.6398, Val Accuracy: 60.20%\n"
          ]
        },
        {
          "output_type": "stream",
          "name": "stderr",
          "text": []
        },
        {
          "output_type": "stream",
          "name": "stdout",
          "text": [
            "Epoch 373/600, Train Loss: 0.0647, Val Loss: 1.5890, Val Accuracy: 60.78%\n"
          ]
        },
        {
          "output_type": "stream",
          "name": "stderr",
          "text": []
        },
        {
          "output_type": "stream",
          "name": "stdout",
          "text": [
            "Epoch 374/600, Train Loss: 0.0605, Val Loss: 1.5868, Val Accuracy: 62.35%\n"
          ]
        },
        {
          "output_type": "stream",
          "name": "stderr",
          "text": []
        },
        {
          "output_type": "stream",
          "name": "stdout",
          "text": [
            "Epoch 375/600, Train Loss: 0.0646, Val Loss: 1.6200, Val Accuracy: 61.96%\n"
          ]
        },
        {
          "output_type": "stream",
          "name": "stderr",
          "text": []
        },
        {
          "output_type": "stream",
          "name": "stdout",
          "text": [
            "Epoch 376/600, Train Loss: 0.0714, Val Loss: 1.5928, Val Accuracy: 63.04%\n"
          ]
        },
        {
          "output_type": "stream",
          "name": "stderr",
          "text": []
        },
        {
          "output_type": "stream",
          "name": "stdout",
          "text": [
            "Epoch 377/600, Train Loss: 0.0604, Val Loss: 1.5802, Val Accuracy: 62.45%\n"
          ]
        },
        {
          "output_type": "stream",
          "name": "stderr",
          "text": []
        },
        {
          "output_type": "stream",
          "name": "stdout",
          "text": [
            "Epoch 378/600, Train Loss: 0.0595, Val Loss: 1.5582, Val Accuracy: 63.92%\n"
          ]
        },
        {
          "output_type": "stream",
          "name": "stderr",
          "text": []
        },
        {
          "output_type": "stream",
          "name": "stdout",
          "text": [
            "Epoch 379/600, Train Loss: 0.0630, Val Loss: 1.5816, Val Accuracy: 63.04%\n"
          ]
        },
        {
          "output_type": "stream",
          "name": "stderr",
          "text": []
        },
        {
          "output_type": "stream",
          "name": "stdout",
          "text": [
            "Epoch 380/600, Train Loss: 0.0607, Val Loss: 1.5723, Val Accuracy: 63.63%\n"
          ]
        },
        {
          "output_type": "stream",
          "name": "stderr",
          "text": []
        },
        {
          "output_type": "stream",
          "name": "stdout",
          "text": [
            "Epoch 381/600, Train Loss: 0.0621, Val Loss: 1.5821, Val Accuracy: 63.43%\n"
          ]
        },
        {
          "output_type": "stream",
          "name": "stderr",
          "text": []
        },
        {
          "output_type": "stream",
          "name": "stdout",
          "text": [
            "Epoch 382/600, Train Loss: 0.0590, Val Loss: 1.5808, Val Accuracy: 63.24%\n"
          ]
        },
        {
          "output_type": "stream",
          "name": "stderr",
          "text": []
        },
        {
          "output_type": "stream",
          "name": "stdout",
          "text": [
            "Epoch 383/600, Train Loss: 0.0620, Val Loss: 1.6010, Val Accuracy: 61.47%\n"
          ]
        },
        {
          "output_type": "stream",
          "name": "stderr",
          "text": []
        },
        {
          "output_type": "stream",
          "name": "stdout",
          "text": [
            "Epoch 384/600, Train Loss: 0.0587, Val Loss: 1.5841, Val Accuracy: 63.82%\n"
          ]
        },
        {
          "output_type": "stream",
          "name": "stderr",
          "text": []
        },
        {
          "output_type": "stream",
          "name": "stdout",
          "text": [
            "Epoch 385/600, Train Loss: 0.0632, Val Loss: 1.6319, Val Accuracy: 61.96%\n"
          ]
        },
        {
          "output_type": "stream",
          "name": "stderr",
          "text": []
        },
        {
          "output_type": "stream",
          "name": "stdout",
          "text": [
            "Epoch 386/600, Train Loss: 0.0603, Val Loss: 1.5902, Val Accuracy: 62.55%\n"
          ]
        },
        {
          "output_type": "stream",
          "name": "stderr",
          "text": []
        },
        {
          "output_type": "stream",
          "name": "stdout",
          "text": [
            "Epoch 387/600, Train Loss: 0.0670, Val Loss: 1.6242, Val Accuracy: 61.76%\n"
          ]
        },
        {
          "output_type": "stream",
          "name": "stderr",
          "text": []
        },
        {
          "output_type": "stream",
          "name": "stdout",
          "text": [
            "Epoch 388/600, Train Loss: 0.0708, Val Loss: 1.6167, Val Accuracy: 61.76%\n"
          ]
        },
        {
          "output_type": "stream",
          "name": "stderr",
          "text": []
        },
        {
          "output_type": "stream",
          "name": "stdout",
          "text": [
            "Epoch 389/600, Train Loss: 0.0610, Val Loss: 1.6219, Val Accuracy: 62.35%\n"
          ]
        },
        {
          "output_type": "stream",
          "name": "stderr",
          "text": []
        },
        {
          "output_type": "stream",
          "name": "stdout",
          "text": [
            "Epoch 390/600, Train Loss: 0.0637, Val Loss: 1.6115, Val Accuracy: 63.33%\n"
          ]
        },
        {
          "output_type": "stream",
          "name": "stderr",
          "text": []
        },
        {
          "output_type": "stream",
          "name": "stdout",
          "text": [
            "Epoch 391/600, Train Loss: 0.0651, Val Loss: 1.6301, Val Accuracy: 61.96%\n"
          ]
        },
        {
          "output_type": "stream",
          "name": "stderr",
          "text": []
        },
        {
          "output_type": "stream",
          "name": "stdout",
          "text": [
            "Epoch 392/600, Train Loss: 0.0750, Val Loss: 1.6717, Val Accuracy: 61.18%\n"
          ]
        },
        {
          "output_type": "stream",
          "name": "stderr",
          "text": []
        },
        {
          "output_type": "stream",
          "name": "stdout",
          "text": [
            "Epoch 393/600, Train Loss: 0.0810, Val Loss: 1.7774, Val Accuracy: 57.84%\n"
          ]
        },
        {
          "output_type": "stream",
          "name": "stderr",
          "text": []
        },
        {
          "output_type": "stream",
          "name": "stdout",
          "text": [
            "Epoch 394/600, Train Loss: 0.0998, Val Loss: 1.9389, Val Accuracy: 53.92%\n"
          ]
        },
        {
          "output_type": "stream",
          "name": "stderr",
          "text": []
        },
        {
          "output_type": "stream",
          "name": "stdout",
          "text": [
            "Epoch 395/600, Train Loss: 0.2559, Val Loss: 3.4017, Val Accuracy: 30.49%\n"
          ]
        },
        {
          "output_type": "stream",
          "name": "stderr",
          "text": []
        },
        {
          "output_type": "stream",
          "name": "stdout",
          "text": [
            "Epoch 396/600, Train Loss: 0.7358, Val Loss: 3.0055, Val Accuracy: 37.06%\n"
          ]
        },
        {
          "output_type": "stream",
          "name": "stderr",
          "text": []
        },
        {
          "output_type": "stream",
          "name": "stdout",
          "text": [
            "Epoch 397/600, Train Loss: 0.4852, Val Loss: 2.5967, Val Accuracy: 42.94%\n"
          ]
        },
        {
          "output_type": "stream",
          "name": "stderr",
          "text": []
        },
        {
          "output_type": "stream",
          "name": "stdout",
          "text": [
            "Epoch 398/600, Train Loss: 0.2998, Val Loss: 2.1772, Val Accuracy: 49.31%\n"
          ]
        },
        {
          "output_type": "stream",
          "name": "stderr",
          "text": []
        },
        {
          "output_type": "stream",
          "name": "stdout",
          "text": [
            "Epoch 399/600, Train Loss: 0.1922, Val Loss: 1.9287, Val Accuracy: 53.24%\n"
          ]
        },
        {
          "output_type": "stream",
          "name": "stderr",
          "text": []
        },
        {
          "output_type": "stream",
          "name": "stdout",
          "text": [
            "Epoch 400/600, Train Loss: 0.0998, Val Loss: 1.6795, Val Accuracy: 58.92%\n"
          ]
        },
        {
          "output_type": "stream",
          "name": "stderr",
          "text": []
        },
        {
          "output_type": "stream",
          "name": "stdout",
          "text": [
            "Epoch 401/600, Train Loss: 0.0599, Val Loss: 1.6139, Val Accuracy: 60.69%\n"
          ]
        },
        {
          "output_type": "stream",
          "name": "stderr",
          "text": []
        },
        {
          "output_type": "stream",
          "name": "stdout",
          "text": [
            "Epoch 402/600, Train Loss: 0.0664, Val Loss: 1.5742, Val Accuracy: 62.06%\n"
          ]
        },
        {
          "output_type": "stream",
          "name": "stderr",
          "text": []
        },
        {
          "output_type": "stream",
          "name": "stdout",
          "text": [
            "Epoch 403/600, Train Loss: 0.0648, Val Loss: 1.5998, Val Accuracy: 62.94%\n"
          ]
        },
        {
          "output_type": "stream",
          "name": "stderr",
          "text": []
        },
        {
          "output_type": "stream",
          "name": "stdout",
          "text": [
            "Epoch 404/600, Train Loss: 0.0666, Val Loss: 1.6111, Val Accuracy: 62.45%\n"
          ]
        },
        {
          "output_type": "stream",
          "name": "stderr",
          "text": []
        },
        {
          "output_type": "stream",
          "name": "stdout",
          "text": [
            "Epoch 405/600, Train Loss: 0.0677, Val Loss: 1.5888, Val Accuracy: 61.86%\n"
          ]
        },
        {
          "output_type": "stream",
          "name": "stderr",
          "text": []
        },
        {
          "output_type": "stream",
          "name": "stdout",
          "text": [
            "Epoch 406/600, Train Loss: 0.0594, Val Loss: 1.5906, Val Accuracy: 63.04%\n"
          ]
        },
        {
          "output_type": "stream",
          "name": "stderr",
          "text": []
        },
        {
          "output_type": "stream",
          "name": "stdout",
          "text": [
            "Epoch 407/600, Train Loss: 0.0628, Val Loss: 1.5885, Val Accuracy: 62.16%\n"
          ]
        },
        {
          "output_type": "stream",
          "name": "stderr",
          "text": []
        },
        {
          "output_type": "stream",
          "name": "stdout",
          "text": [
            "Epoch 408/600, Train Loss: 0.0614, Val Loss: 1.5791, Val Accuracy: 62.55%\n"
          ]
        },
        {
          "output_type": "stream",
          "name": "stderr",
          "text": []
        },
        {
          "output_type": "stream",
          "name": "stdout",
          "text": [
            "Epoch 409/600, Train Loss: 0.0653, Val Loss: 1.6003, Val Accuracy: 62.35%\n"
          ]
        },
        {
          "output_type": "stream",
          "name": "stderr",
          "text": []
        },
        {
          "output_type": "stream",
          "name": "stdout",
          "text": [
            "Epoch 410/600, Train Loss: 0.0594, Val Loss: 1.6088, Val Accuracy: 62.94%\n"
          ]
        },
        {
          "output_type": "stream",
          "name": "stderr",
          "text": []
        },
        {
          "output_type": "stream",
          "name": "stdout",
          "text": [
            "Epoch 411/600, Train Loss: 0.0602, Val Loss: 1.5788, Val Accuracy: 63.43%\n"
          ]
        },
        {
          "output_type": "stream",
          "name": "stderr",
          "text": []
        },
        {
          "output_type": "stream",
          "name": "stdout",
          "text": [
            "Epoch 412/600, Train Loss: 0.0613, Val Loss: 1.5896, Val Accuracy: 62.45%\n"
          ]
        },
        {
          "output_type": "stream",
          "name": "stderr",
          "text": []
        },
        {
          "output_type": "stream",
          "name": "stdout",
          "text": [
            "Epoch 413/600, Train Loss: 0.0583, Val Loss: 1.5594, Val Accuracy: 64.41%\n"
          ]
        },
        {
          "output_type": "stream",
          "name": "stderr",
          "text": []
        },
        {
          "output_type": "stream",
          "name": "stdout",
          "text": [
            "Epoch 414/600, Train Loss: 0.0638, Val Loss: 1.6003, Val Accuracy: 63.63%\n"
          ]
        },
        {
          "output_type": "stream",
          "name": "stderr",
          "text": []
        },
        {
          "output_type": "stream",
          "name": "stdout",
          "text": [
            "Epoch 415/600, Train Loss: 0.0607, Val Loss: 1.5778, Val Accuracy: 62.84%\n"
          ]
        },
        {
          "output_type": "stream",
          "name": "stderr",
          "text": []
        },
        {
          "output_type": "stream",
          "name": "stdout",
          "text": [
            "Epoch 416/600, Train Loss: 0.0591, Val Loss: 1.5990, Val Accuracy: 62.25%\n"
          ]
        },
        {
          "output_type": "stream",
          "name": "stderr",
          "text": []
        },
        {
          "output_type": "stream",
          "name": "stdout",
          "text": [
            "Epoch 417/600, Train Loss: 0.0653, Val Loss: 1.6419, Val Accuracy: 62.84%\n"
          ]
        },
        {
          "output_type": "stream",
          "name": "stderr",
          "text": []
        },
        {
          "output_type": "stream",
          "name": "stdout",
          "text": [
            "Epoch 418/600, Train Loss: 0.0628, Val Loss: 1.5975, Val Accuracy: 63.82%\n"
          ]
        },
        {
          "output_type": "stream",
          "name": "stderr",
          "text": []
        },
        {
          "output_type": "stream",
          "name": "stdout",
          "text": [
            "Epoch 419/600, Train Loss: 0.0604, Val Loss: 1.6079, Val Accuracy: 63.14%\n"
          ]
        },
        {
          "output_type": "stream",
          "name": "stderr",
          "text": []
        },
        {
          "output_type": "stream",
          "name": "stdout",
          "text": [
            "Epoch 420/600, Train Loss: 0.0736, Val Loss: 1.6643, Val Accuracy: 62.25%\n"
          ]
        },
        {
          "output_type": "stream",
          "name": "stderr",
          "text": []
        },
        {
          "output_type": "stream",
          "name": "stdout",
          "text": [
            "Epoch 421/600, Train Loss: 0.0831, Val Loss: 1.7730, Val Accuracy: 57.65%\n"
          ]
        },
        {
          "output_type": "stream",
          "name": "stderr",
          "text": []
        },
        {
          "output_type": "stream",
          "name": "stdout",
          "text": [
            "Epoch 422/600, Train Loss: 0.0975, Val Loss: 1.8173, Val Accuracy: 58.82%\n"
          ]
        },
        {
          "output_type": "stream",
          "name": "stderr",
          "text": []
        },
        {
          "output_type": "stream",
          "name": "stdout",
          "text": [
            "Epoch 423/600, Train Loss: 0.1174, Val Loss: 1.8751, Val Accuracy: 55.29%\n"
          ]
        },
        {
          "output_type": "stream",
          "name": "stderr",
          "text": []
        },
        {
          "output_type": "stream",
          "name": "stdout",
          "text": [
            "Epoch 424/600, Train Loss: 0.1899, Val Loss: 2.3767, Val Accuracy: 44.31%\n"
          ]
        },
        {
          "output_type": "stream",
          "name": "stderr",
          "text": []
        },
        {
          "output_type": "stream",
          "name": "stdout",
          "text": [
            "Epoch 425/600, Train Loss: 0.4207, Val Loss: 2.7468, Val Accuracy: 39.51%\n"
          ]
        },
        {
          "output_type": "stream",
          "name": "stderr",
          "text": []
        },
        {
          "output_type": "stream",
          "name": "stdout",
          "text": [
            "Epoch 426/600, Train Loss: 0.3805, Val Loss: 2.5133, Val Accuracy: 44.41%\n"
          ]
        },
        {
          "output_type": "stream",
          "name": "stderr",
          "text": []
        },
        {
          "output_type": "stream",
          "name": "stdout",
          "text": [
            "Epoch 427/600, Train Loss: 0.2029, Val Loss: 1.9359, Val Accuracy: 53.82%\n"
          ]
        },
        {
          "output_type": "stream",
          "name": "stderr",
          "text": []
        },
        {
          "output_type": "stream",
          "name": "stdout",
          "text": [
            "Epoch 428/600, Train Loss: 0.1102, Val Loss: 1.8945, Val Accuracy: 53.53%\n"
          ]
        },
        {
          "output_type": "stream",
          "name": "stderr",
          "text": []
        },
        {
          "output_type": "stream",
          "name": "stdout",
          "text": [
            "Epoch 429/600, Train Loss: 0.0771, Val Loss: 1.6631, Val Accuracy: 59.22%\n"
          ]
        },
        {
          "output_type": "stream",
          "name": "stderr",
          "text": []
        },
        {
          "output_type": "stream",
          "name": "stdout",
          "text": [
            "Epoch 430/600, Train Loss: 0.0629, Val Loss: 1.6191, Val Accuracy: 60.20%\n"
          ]
        },
        {
          "output_type": "stream",
          "name": "stderr",
          "text": []
        },
        {
          "output_type": "stream",
          "name": "stdout",
          "text": [
            "Epoch 431/600, Train Loss: 0.0613, Val Loss: 1.6084, Val Accuracy: 60.49%\n"
          ]
        },
        {
          "output_type": "stream",
          "name": "stderr",
          "text": []
        },
        {
          "output_type": "stream",
          "name": "stdout",
          "text": [
            "Epoch 432/600, Train Loss: 0.0581, Val Loss: 1.5812, Val Accuracy: 61.67%\n"
          ]
        },
        {
          "output_type": "stream",
          "name": "stderr",
          "text": []
        },
        {
          "output_type": "stream",
          "name": "stdout",
          "text": [
            "Epoch 433/600, Train Loss: 0.0667, Val Loss: 1.6020, Val Accuracy: 61.08%\n"
          ]
        },
        {
          "output_type": "stream",
          "name": "stderr",
          "text": []
        },
        {
          "output_type": "stream",
          "name": "stdout",
          "text": [
            "Epoch 434/600, Train Loss: 0.0614, Val Loss: 1.5892, Val Accuracy: 62.06%\n"
          ]
        },
        {
          "output_type": "stream",
          "name": "stderr",
          "text": []
        },
        {
          "output_type": "stream",
          "name": "stdout",
          "text": [
            "Epoch 435/600, Train Loss: 0.0615, Val Loss: 1.5785, Val Accuracy: 62.16%\n"
          ]
        },
        {
          "output_type": "stream",
          "name": "stderr",
          "text": []
        },
        {
          "output_type": "stream",
          "name": "stdout",
          "text": [
            "Epoch 436/600, Train Loss: 0.0582, Val Loss: 1.5772, Val Accuracy: 62.84%\n"
          ]
        },
        {
          "output_type": "stream",
          "name": "stderr",
          "text": []
        },
        {
          "output_type": "stream",
          "name": "stdout",
          "text": [
            "Epoch 437/600, Train Loss: 0.0589, Val Loss: 1.5800, Val Accuracy: 62.25%\n"
          ]
        },
        {
          "output_type": "stream",
          "name": "stderr",
          "text": []
        },
        {
          "output_type": "stream",
          "name": "stdout",
          "text": [
            "Epoch 438/600, Train Loss: 0.0626, Val Loss: 1.6052, Val Accuracy: 63.04%\n"
          ]
        },
        {
          "output_type": "stream",
          "name": "stderr",
          "text": []
        },
        {
          "output_type": "stream",
          "name": "stdout",
          "text": [
            "Epoch 439/600, Train Loss: 0.0600, Val Loss: 1.6000, Val Accuracy: 62.55%\n"
          ]
        },
        {
          "output_type": "stream",
          "name": "stderr",
          "text": []
        },
        {
          "output_type": "stream",
          "name": "stdout",
          "text": [
            "Epoch 440/600, Train Loss: 0.0609, Val Loss: 1.6236, Val Accuracy: 62.55%\n"
          ]
        },
        {
          "output_type": "stream",
          "name": "stderr",
          "text": []
        },
        {
          "output_type": "stream",
          "name": "stdout",
          "text": [
            "Epoch 441/600, Train Loss: 0.0580, Val Loss: 1.5892, Val Accuracy: 63.92%\n"
          ]
        },
        {
          "output_type": "stream",
          "name": "stderr",
          "text": []
        },
        {
          "output_type": "stream",
          "name": "stdout",
          "text": [
            "Epoch 442/600, Train Loss: 0.0602, Val Loss: 1.5744, Val Accuracy: 64.51%\n"
          ]
        },
        {
          "output_type": "stream",
          "name": "stderr",
          "text": []
        },
        {
          "output_type": "stream",
          "name": "stdout",
          "text": [
            "Epoch 443/600, Train Loss: 0.0599, Val Loss: 1.6018, Val Accuracy: 62.65%\n"
          ]
        },
        {
          "output_type": "stream",
          "name": "stderr",
          "text": []
        },
        {
          "output_type": "stream",
          "name": "stdout",
          "text": [
            "Epoch 444/600, Train Loss: 0.0655, Val Loss: 1.6343, Val Accuracy: 63.14%\n"
          ]
        },
        {
          "output_type": "stream",
          "name": "stderr",
          "text": []
        },
        {
          "output_type": "stream",
          "name": "stdout",
          "text": [
            "Epoch 445/600, Train Loss: 0.0683, Val Loss: 1.6601, Val Accuracy: 60.69%\n"
          ]
        },
        {
          "output_type": "stream",
          "name": "stderr",
          "text": []
        },
        {
          "output_type": "stream",
          "name": "stdout",
          "text": [
            "Epoch 446/600, Train Loss: 0.0646, Val Loss: 1.6202, Val Accuracy: 62.75%\n"
          ]
        },
        {
          "output_type": "stream",
          "name": "stderr",
          "text": []
        },
        {
          "output_type": "stream",
          "name": "stdout",
          "text": [
            "Epoch 447/600, Train Loss: 0.0673, Val Loss: 1.6620, Val Accuracy: 62.25%\n"
          ]
        },
        {
          "output_type": "stream",
          "name": "stderr",
          "text": []
        },
        {
          "output_type": "stream",
          "name": "stdout",
          "text": [
            "Epoch 448/600, Train Loss: 0.0633, Val Loss: 1.6301, Val Accuracy: 63.92%\n"
          ]
        },
        {
          "output_type": "stream",
          "name": "stderr",
          "text": []
        },
        {
          "output_type": "stream",
          "name": "stdout",
          "text": [
            "Epoch 449/600, Train Loss: 0.0646, Val Loss: 1.6543, Val Accuracy: 62.25%\n"
          ]
        },
        {
          "output_type": "stream",
          "name": "stderr",
          "text": []
        },
        {
          "output_type": "stream",
          "name": "stdout",
          "text": [
            "Epoch 450/600, Train Loss: 0.0670, Val Loss: 1.6289, Val Accuracy: 62.35%\n"
          ]
        },
        {
          "output_type": "stream",
          "name": "stderr",
          "text": []
        },
        {
          "output_type": "stream",
          "name": "stdout",
          "text": [
            "Epoch 451/600, Train Loss: 0.0703, Val Loss: 1.6837, Val Accuracy: 60.78%\n"
          ]
        },
        {
          "output_type": "stream",
          "name": "stderr",
          "text": []
        },
        {
          "output_type": "stream",
          "name": "stdout",
          "text": [
            "Epoch 452/600, Train Loss: 0.1148, Val Loss: 1.9304, Val Accuracy: 54.61%\n"
          ]
        },
        {
          "output_type": "stream",
          "name": "stderr",
          "text": []
        },
        {
          "output_type": "stream",
          "name": "stdout",
          "text": [
            "Epoch 453/600, Train Loss: 0.3656, Val Loss: 3.9396, Val Accuracy: 27.65%\n"
          ]
        },
        {
          "output_type": "stream",
          "name": "stderr",
          "text": []
        },
        {
          "output_type": "stream",
          "name": "stdout",
          "text": [
            "Epoch 454/600, Train Loss: 0.7662, Val Loss: 2.8899, Val Accuracy: 38.24%\n"
          ]
        },
        {
          "output_type": "stream",
          "name": "stderr",
          "text": []
        },
        {
          "output_type": "stream",
          "name": "stdout",
          "text": [
            "Epoch 455/600, Train Loss: 0.5251, Val Loss: 2.4278, Val Accuracy: 44.12%\n"
          ]
        },
        {
          "output_type": "stream",
          "name": "stderr",
          "text": []
        },
        {
          "output_type": "stream",
          "name": "stdout",
          "text": [
            "Epoch 456/600, Train Loss: 0.1976, Val Loss: 1.9179, Val Accuracy: 54.31%\n"
          ]
        },
        {
          "output_type": "stream",
          "name": "stderr",
          "text": []
        },
        {
          "output_type": "stream",
          "name": "stdout",
          "text": [
            "Epoch 457/600, Train Loss: 0.0934, Val Loss: 1.7013, Val Accuracy: 58.14%\n"
          ]
        },
        {
          "output_type": "stream",
          "name": "stderr",
          "text": []
        },
        {
          "output_type": "stream",
          "name": "stdout",
          "text": [
            "Epoch 458/600, Train Loss: 0.0659, Val Loss: 1.6262, Val Accuracy: 59.41%\n"
          ]
        },
        {
          "output_type": "stream",
          "name": "stderr",
          "text": []
        },
        {
          "output_type": "stream",
          "name": "stdout",
          "text": [
            "Epoch 459/600, Train Loss: 0.0663, Val Loss: 1.6142, Val Accuracy: 59.41%\n"
          ]
        },
        {
          "output_type": "stream",
          "name": "stderr",
          "text": []
        },
        {
          "output_type": "stream",
          "name": "stdout",
          "text": [
            "Epoch 460/600, Train Loss: 0.0702, Val Loss: 1.5940, Val Accuracy: 60.69%\n"
          ]
        },
        {
          "output_type": "stream",
          "name": "stderr",
          "text": []
        },
        {
          "output_type": "stream",
          "name": "stdout",
          "text": [
            "Epoch 461/600, Train Loss: 0.0668, Val Loss: 1.6033, Val Accuracy: 61.18%\n"
          ]
        },
        {
          "output_type": "stream",
          "name": "stderr",
          "text": []
        },
        {
          "output_type": "stream",
          "name": "stdout",
          "text": [
            "Epoch 462/600, Train Loss: 0.0675, Val Loss: 1.6066, Val Accuracy: 61.18%\n"
          ]
        },
        {
          "output_type": "stream",
          "name": "stderr",
          "text": []
        },
        {
          "output_type": "stream",
          "name": "stdout",
          "text": [
            "Epoch 463/600, Train Loss: 0.0644, Val Loss: 1.5998, Val Accuracy: 60.98%\n"
          ]
        },
        {
          "output_type": "stream",
          "name": "stderr",
          "text": []
        },
        {
          "output_type": "stream",
          "name": "stdout",
          "text": [
            "Epoch 464/600, Train Loss: 0.0636, Val Loss: 1.5953, Val Accuracy: 62.55%\n"
          ]
        },
        {
          "output_type": "stream",
          "name": "stderr",
          "text": []
        },
        {
          "output_type": "stream",
          "name": "stdout",
          "text": [
            "Epoch 465/600, Train Loss: 0.0617, Val Loss: 1.5894, Val Accuracy: 61.67%\n"
          ]
        },
        {
          "output_type": "stream",
          "name": "stderr",
          "text": []
        },
        {
          "output_type": "stream",
          "name": "stdout",
          "text": [
            "Epoch 466/600, Train Loss: 0.0621, Val Loss: 1.6062, Val Accuracy: 62.16%\n"
          ]
        },
        {
          "output_type": "stream",
          "name": "stderr",
          "text": []
        },
        {
          "output_type": "stream",
          "name": "stdout",
          "text": [
            "Epoch 467/600, Train Loss: 0.0656, Val Loss: 1.5855, Val Accuracy: 62.55%\n"
          ]
        },
        {
          "output_type": "stream",
          "name": "stderr",
          "text": []
        },
        {
          "output_type": "stream",
          "name": "stdout",
          "text": [
            "Epoch 468/600, Train Loss: 0.0590, Val Loss: 1.5718, Val Accuracy: 63.14%\n"
          ]
        },
        {
          "output_type": "stream",
          "name": "stderr",
          "text": []
        },
        {
          "output_type": "stream",
          "name": "stdout",
          "text": [
            "Epoch 469/600, Train Loss: 0.0544, Val Loss: 1.5731, Val Accuracy: 62.94%\n"
          ]
        },
        {
          "output_type": "stream",
          "name": "stderr",
          "text": []
        },
        {
          "output_type": "stream",
          "name": "stdout",
          "text": [
            "Epoch 470/600, Train Loss: 0.0628, Val Loss: 1.5675, Val Accuracy: 63.53%\n"
          ]
        },
        {
          "output_type": "stream",
          "name": "stderr",
          "text": []
        },
        {
          "output_type": "stream",
          "name": "stdout",
          "text": [
            "Epoch 471/600, Train Loss: 0.0594, Val Loss: 1.5844, Val Accuracy: 62.84%\n"
          ]
        },
        {
          "output_type": "stream",
          "name": "stderr",
          "text": []
        },
        {
          "output_type": "stream",
          "name": "stdout",
          "text": [
            "Epoch 472/600, Train Loss: 0.0617, Val Loss: 1.5861, Val Accuracy: 63.63%\n"
          ]
        },
        {
          "output_type": "stream",
          "name": "stderr",
          "text": []
        },
        {
          "output_type": "stream",
          "name": "stdout",
          "text": [
            "Epoch 473/600, Train Loss: 0.0578, Val Loss: 1.5748, Val Accuracy: 63.92%\n"
          ]
        },
        {
          "output_type": "stream",
          "name": "stderr",
          "text": []
        },
        {
          "output_type": "stream",
          "name": "stdout",
          "text": [
            "Epoch 474/600, Train Loss: 0.0584, Val Loss: 1.5824, Val Accuracy: 63.63%\n"
          ]
        },
        {
          "output_type": "stream",
          "name": "stderr",
          "text": []
        },
        {
          "output_type": "stream",
          "name": "stdout",
          "text": [
            "Epoch 475/600, Train Loss: 0.0720, Val Loss: 1.6077, Val Accuracy: 63.04%\n"
          ]
        },
        {
          "output_type": "stream",
          "name": "stderr",
          "text": []
        },
        {
          "output_type": "stream",
          "name": "stdout",
          "text": [
            "Epoch 476/600, Train Loss: 0.0639, Val Loss: 1.6095, Val Accuracy: 62.16%\n"
          ]
        },
        {
          "output_type": "stream",
          "name": "stderr",
          "text": []
        },
        {
          "output_type": "stream",
          "name": "stdout",
          "text": [
            "Epoch 477/600, Train Loss: 0.0578, Val Loss: 1.5888, Val Accuracy: 64.22%\n"
          ]
        },
        {
          "output_type": "stream",
          "name": "stderr",
          "text": []
        },
        {
          "output_type": "stream",
          "name": "stdout",
          "text": [
            "Epoch 478/600, Train Loss: 0.0591, Val Loss: 1.5757, Val Accuracy: 63.33%\n"
          ]
        },
        {
          "output_type": "stream",
          "name": "stderr",
          "text": []
        },
        {
          "output_type": "stream",
          "name": "stdout",
          "text": [
            "Epoch 479/600, Train Loss: 0.0618, Val Loss: 1.5780, Val Accuracy: 64.31%\n"
          ]
        },
        {
          "output_type": "stream",
          "name": "stderr",
          "text": []
        },
        {
          "output_type": "stream",
          "name": "stdout",
          "text": [
            "Epoch 480/600, Train Loss: 0.0631, Val Loss: 1.6045, Val Accuracy: 61.86%\n"
          ]
        },
        {
          "output_type": "stream",
          "name": "stderr",
          "text": []
        },
        {
          "output_type": "stream",
          "name": "stdout",
          "text": [
            "Epoch 481/600, Train Loss: 0.0694, Val Loss: 1.7090, Val Accuracy: 61.67%\n"
          ]
        },
        {
          "output_type": "stream",
          "name": "stderr",
          "text": []
        },
        {
          "output_type": "stream",
          "name": "stdout",
          "text": [
            "Epoch 482/600, Train Loss: 0.0747, Val Loss: 1.6263, Val Accuracy: 62.06%\n"
          ]
        },
        {
          "output_type": "stream",
          "name": "stderr",
          "text": []
        },
        {
          "output_type": "stream",
          "name": "stdout",
          "text": [
            "Epoch 483/600, Train Loss: 0.0668, Val Loss: 1.6516, Val Accuracy: 63.82%\n"
          ]
        },
        {
          "output_type": "stream",
          "name": "stderr",
          "text": []
        },
        {
          "output_type": "stream",
          "name": "stdout",
          "text": [
            "Epoch 484/600, Train Loss: 0.0723, Val Loss: 1.6498, Val Accuracy: 60.69%\n"
          ]
        },
        {
          "output_type": "stream",
          "name": "stderr",
          "text": []
        },
        {
          "output_type": "stream",
          "name": "stdout",
          "text": [
            "Epoch 485/600, Train Loss: 0.0825, Val Loss: 1.7542, Val Accuracy: 59.31%\n"
          ]
        },
        {
          "output_type": "stream",
          "name": "stderr",
          "text": []
        },
        {
          "output_type": "stream",
          "name": "stdout",
          "text": [
            "Epoch 486/600, Train Loss: 0.1517, Val Loss: 2.1504, Val Accuracy: 51.27%\n"
          ]
        },
        {
          "output_type": "stream",
          "name": "stderr",
          "text": []
        },
        {
          "output_type": "stream",
          "name": "stdout",
          "text": [
            "Epoch 487/600, Train Loss: 0.3051, Val Loss: 2.5870, Val Accuracy: 41.47%\n"
          ]
        },
        {
          "output_type": "stream",
          "name": "stderr",
          "text": []
        },
        {
          "output_type": "stream",
          "name": "stdout",
          "text": [
            "Epoch 488/600, Train Loss: 0.4897, Val Loss: 2.4552, Val Accuracy: 47.25%\n"
          ]
        },
        {
          "output_type": "stream",
          "name": "stderr",
          "text": []
        },
        {
          "output_type": "stream",
          "name": "stdout",
          "text": [
            "Epoch 489/600, Train Loss: 0.3288, Val Loss: 2.3946, Val Accuracy: 45.49%\n"
          ]
        },
        {
          "output_type": "stream",
          "name": "stderr",
          "text": []
        },
        {
          "output_type": "stream",
          "name": "stdout",
          "text": [
            "Epoch 490/600, Train Loss: 0.2512, Val Loss: 1.8685, Val Accuracy: 55.39%\n"
          ]
        },
        {
          "output_type": "stream",
          "name": "stderr",
          "text": []
        },
        {
          "output_type": "stream",
          "name": "stdout",
          "text": [
            "Epoch 491/600, Train Loss: 0.1150, Val Loss: 1.6850, Val Accuracy: 59.31%\n"
          ]
        },
        {
          "output_type": "stream",
          "name": "stderr",
          "text": []
        },
        {
          "output_type": "stream",
          "name": "stdout",
          "text": [
            "Epoch 492/600, Train Loss: 0.0776, Val Loss: 1.6747, Val Accuracy: 60.59%\n"
          ]
        },
        {
          "output_type": "stream",
          "name": "stderr",
          "text": []
        },
        {
          "output_type": "stream",
          "name": "stdout",
          "text": [
            "Epoch 493/600, Train Loss: 0.0632, Val Loss: 1.5829, Val Accuracy: 61.86%\n"
          ]
        },
        {
          "output_type": "stream",
          "name": "stderr",
          "text": []
        },
        {
          "output_type": "stream",
          "name": "stdout",
          "text": [
            "Epoch 494/600, Train Loss: 0.0601, Val Loss: 1.5601, Val Accuracy: 63.82%\n"
          ]
        },
        {
          "output_type": "stream",
          "name": "stderr",
          "text": []
        },
        {
          "output_type": "stream",
          "name": "stdout",
          "text": [
            "Epoch 495/600, Train Loss: 0.0619, Val Loss: 1.5782, Val Accuracy: 63.04%\n"
          ]
        },
        {
          "output_type": "stream",
          "name": "stderr",
          "text": []
        },
        {
          "output_type": "stream",
          "name": "stdout",
          "text": [
            "Epoch 496/600, Train Loss: 0.0621, Val Loss: 1.5675, Val Accuracy: 63.33%\n"
          ]
        },
        {
          "output_type": "stream",
          "name": "stderr",
          "text": []
        },
        {
          "output_type": "stream",
          "name": "stdout",
          "text": [
            "Epoch 497/600, Train Loss: 0.0604, Val Loss: 1.5531, Val Accuracy: 63.24%\n"
          ]
        },
        {
          "output_type": "stream",
          "name": "stderr",
          "text": []
        },
        {
          "output_type": "stream",
          "name": "stdout",
          "text": [
            "Epoch 498/600, Train Loss: 0.0609, Val Loss: 1.5718, Val Accuracy: 63.33%\n"
          ]
        },
        {
          "output_type": "stream",
          "name": "stderr",
          "text": []
        },
        {
          "output_type": "stream",
          "name": "stdout",
          "text": [
            "Epoch 499/600, Train Loss: 0.0611, Val Loss: 1.5569, Val Accuracy: 63.14%\n"
          ]
        },
        {
          "output_type": "stream",
          "name": "stderr",
          "text": []
        },
        {
          "output_type": "stream",
          "name": "stdout",
          "text": [
            "Epoch 500/600, Train Loss: 0.0591, Val Loss: 1.5755, Val Accuracy: 63.82%\n"
          ]
        },
        {
          "output_type": "stream",
          "name": "stderr",
          "text": []
        },
        {
          "output_type": "stream",
          "name": "stdout",
          "text": [
            "Epoch 501/600, Train Loss: 0.0594, Val Loss: 1.5720, Val Accuracy: 63.63%\n"
          ]
        },
        {
          "output_type": "stream",
          "name": "stderr",
          "text": []
        },
        {
          "output_type": "stream",
          "name": "stdout",
          "text": [
            "Epoch 502/600, Train Loss: 0.0573, Val Loss: 1.5580, Val Accuracy: 64.12%\n"
          ]
        },
        {
          "output_type": "stream",
          "name": "stderr",
          "text": []
        },
        {
          "output_type": "stream",
          "name": "stdout",
          "text": [
            "Epoch 503/600, Train Loss: 0.0603, Val Loss: 1.5960, Val Accuracy: 62.94%\n"
          ]
        },
        {
          "output_type": "stream",
          "name": "stderr",
          "text": []
        },
        {
          "output_type": "stream",
          "name": "stdout",
          "text": [
            "Epoch 504/600, Train Loss: 0.0601, Val Loss: 1.5554, Val Accuracy: 63.33%\n"
          ]
        },
        {
          "output_type": "stream",
          "name": "stderr",
          "text": []
        },
        {
          "output_type": "stream",
          "name": "stdout",
          "text": [
            "Epoch 505/600, Train Loss: 0.0568, Val Loss: 1.5578, Val Accuracy: 64.22%\n"
          ]
        },
        {
          "output_type": "stream",
          "name": "stderr",
          "text": []
        },
        {
          "output_type": "stream",
          "name": "stdout",
          "text": [
            "Epoch 506/600, Train Loss: 0.0586, Val Loss: 1.5625, Val Accuracy: 64.41%\n"
          ]
        },
        {
          "output_type": "stream",
          "name": "stderr",
          "text": []
        },
        {
          "output_type": "stream",
          "name": "stdout",
          "text": [
            "Epoch 507/600, Train Loss: 0.0635, Val Loss: 1.5513, Val Accuracy: 63.73%\n"
          ]
        },
        {
          "output_type": "stream",
          "name": "stderr",
          "text": []
        },
        {
          "output_type": "stream",
          "name": "stdout",
          "text": [
            "Epoch 508/600, Train Loss: 0.0593, Val Loss: 1.5502, Val Accuracy: 63.82%\n"
          ]
        },
        {
          "output_type": "stream",
          "name": "stderr",
          "text": []
        },
        {
          "output_type": "stream",
          "name": "stdout",
          "text": [
            "Epoch 509/600, Train Loss: 0.0613, Val Loss: 1.5878, Val Accuracy: 63.43%\n"
          ]
        },
        {
          "output_type": "stream",
          "name": "stderr",
          "text": []
        },
        {
          "output_type": "stream",
          "name": "stdout",
          "text": [
            "Epoch 510/600, Train Loss: 0.0606, Val Loss: 1.5668, Val Accuracy: 62.94%\n"
          ]
        },
        {
          "output_type": "stream",
          "name": "stderr",
          "text": []
        },
        {
          "output_type": "stream",
          "name": "stdout",
          "text": [
            "Epoch 511/600, Train Loss: 0.0611, Val Loss: 1.5945, Val Accuracy: 61.18%\n"
          ]
        },
        {
          "output_type": "stream",
          "name": "stderr",
          "text": []
        },
        {
          "output_type": "stream",
          "name": "stdout",
          "text": [
            "Epoch 512/600, Train Loss: 0.0594, Val Loss: 1.5626, Val Accuracy: 64.61%\n",
            "Saved Best Model with Validation Accuracy: 64.61%\n"
          ]
        },
        {
          "output_type": "stream",
          "name": "stderr",
          "text": []
        },
        {
          "output_type": "stream",
          "name": "stdout",
          "text": [
            "Epoch 513/600, Train Loss: 0.0644, Val Loss: 1.6448, Val Accuracy: 60.88%\n"
          ]
        },
        {
          "output_type": "stream",
          "name": "stderr",
          "text": []
        },
        {
          "output_type": "stream",
          "name": "stdout",
          "text": [
            "Epoch 514/600, Train Loss: 0.0621, Val Loss: 1.6020, Val Accuracy: 62.75%\n"
          ]
        },
        {
          "output_type": "stream",
          "name": "stderr",
          "text": []
        },
        {
          "output_type": "stream",
          "name": "stdout",
          "text": [
            "Epoch 515/600, Train Loss: 0.0660, Val Loss: 1.5977, Val Accuracy: 62.55%\n"
          ]
        },
        {
          "output_type": "stream",
          "name": "stderr",
          "text": []
        },
        {
          "output_type": "stream",
          "name": "stdout",
          "text": [
            "Epoch 516/600, Train Loss: 0.0647, Val Loss: 1.6225, Val Accuracy: 61.47%\n"
          ]
        },
        {
          "output_type": "stream",
          "name": "stderr",
          "text": []
        },
        {
          "output_type": "stream",
          "name": "stdout",
          "text": [
            "Epoch 517/600, Train Loss: 0.0705, Val Loss: 1.6981, Val Accuracy: 61.27%\n"
          ]
        },
        {
          "output_type": "stream",
          "name": "stderr",
          "text": []
        },
        {
          "output_type": "stream",
          "name": "stdout",
          "text": [
            "Epoch 518/600, Train Loss: 0.0687, Val Loss: 1.6437, Val Accuracy: 62.16%\n"
          ]
        },
        {
          "output_type": "stream",
          "name": "stderr",
          "text": []
        },
        {
          "output_type": "stream",
          "name": "stdout",
          "text": [
            "Epoch 519/600, Train Loss: 0.0810, Val Loss: 1.6892, Val Accuracy: 60.78%\n"
          ]
        },
        {
          "output_type": "stream",
          "name": "stderr",
          "text": []
        },
        {
          "output_type": "stream",
          "name": "stdout",
          "text": [
            "Epoch 520/600, Train Loss: 0.0937, Val Loss: 1.8551, Val Accuracy: 56.57%\n"
          ]
        },
        {
          "output_type": "stream",
          "name": "stderr",
          "text": []
        },
        {
          "output_type": "stream",
          "name": "stdout",
          "text": [
            "Epoch 521/600, Train Loss: 0.1523, Val Loss: 2.2634, Val Accuracy: 49.12%\n"
          ]
        },
        {
          "output_type": "stream",
          "name": "stderr",
          "text": []
        },
        {
          "output_type": "stream",
          "name": "stdout",
          "text": [
            "Epoch 522/600, Train Loss: 0.4075, Val Loss: 3.0476, Val Accuracy: 37.65%\n"
          ]
        },
        {
          "output_type": "stream",
          "name": "stderr",
          "text": []
        },
        {
          "output_type": "stream",
          "name": "stdout",
          "text": [
            "Epoch 523/600, Train Loss: 0.4862, Val Loss: 2.3436, Val Accuracy: 45.10%\n"
          ]
        },
        {
          "output_type": "stream",
          "name": "stderr",
          "text": []
        },
        {
          "output_type": "stream",
          "name": "stdout",
          "text": [
            "Epoch 524/600, Train Loss: 0.2598, Val Loss: 2.1933, Val Accuracy: 50.69%\n"
          ]
        },
        {
          "output_type": "stream",
          "name": "stderr",
          "text": []
        },
        {
          "output_type": "stream",
          "name": "stdout",
          "text": [
            "Epoch 525/600, Train Loss: 0.1527, Val Loss: 1.8237, Val Accuracy: 55.10%\n"
          ]
        },
        {
          "output_type": "stream",
          "name": "stderr",
          "text": []
        },
        {
          "output_type": "stream",
          "name": "stdout",
          "text": [
            "Epoch 526/600, Train Loss: 0.0793, Val Loss: 1.7042, Val Accuracy: 59.41%\n"
          ]
        },
        {
          "output_type": "stream",
          "name": "stderr",
          "text": []
        },
        {
          "output_type": "stream",
          "name": "stdout",
          "text": [
            "Epoch 527/600, Train Loss: 0.0603, Val Loss: 1.6243, Val Accuracy: 61.86%\n"
          ]
        },
        {
          "output_type": "stream",
          "name": "stderr",
          "text": []
        },
        {
          "output_type": "stream",
          "name": "stdout",
          "text": [
            "Epoch 528/600, Train Loss: 0.0683, Val Loss: 1.6191, Val Accuracy: 61.67%\n"
          ]
        },
        {
          "output_type": "stream",
          "name": "stderr",
          "text": []
        },
        {
          "output_type": "stream",
          "name": "stdout",
          "text": [
            "Epoch 529/600, Train Loss: 0.0663, Val Loss: 1.5776, Val Accuracy: 62.75%\n"
          ]
        },
        {
          "output_type": "stream",
          "name": "stderr",
          "text": []
        },
        {
          "output_type": "stream",
          "name": "stdout",
          "text": [
            "Epoch 530/600, Train Loss: 0.0640, Val Loss: 1.5798, Val Accuracy: 62.55%\n"
          ]
        },
        {
          "output_type": "stream",
          "name": "stderr",
          "text": []
        },
        {
          "output_type": "stream",
          "name": "stdout",
          "text": [
            "Epoch 531/600, Train Loss: 0.0628, Val Loss: 1.5883, Val Accuracy: 62.55%\n"
          ]
        },
        {
          "output_type": "stream",
          "name": "stderr",
          "text": []
        },
        {
          "output_type": "stream",
          "name": "stdout",
          "text": [
            "Epoch 532/600, Train Loss: 0.0591, Val Loss: 1.5913, Val Accuracy: 62.84%\n"
          ]
        },
        {
          "output_type": "stream",
          "name": "stderr",
          "text": []
        },
        {
          "output_type": "stream",
          "name": "stdout",
          "text": [
            "Epoch 533/600, Train Loss: 0.0611, Val Loss: 1.5632, Val Accuracy: 62.45%\n"
          ]
        },
        {
          "output_type": "stream",
          "name": "stderr",
          "text": []
        },
        {
          "output_type": "stream",
          "name": "stdout",
          "text": [
            "Epoch 534/600, Train Loss: 0.0605, Val Loss: 1.5638, Val Accuracy: 63.73%\n"
          ]
        },
        {
          "output_type": "stream",
          "name": "stderr",
          "text": []
        },
        {
          "output_type": "stream",
          "name": "stdout",
          "text": [
            "Epoch 535/600, Train Loss: 0.0617, Val Loss: 1.5851, Val Accuracy: 62.16%\n"
          ]
        },
        {
          "output_type": "stream",
          "name": "stderr",
          "text": []
        },
        {
          "output_type": "stream",
          "name": "stdout",
          "text": [
            "Epoch 536/600, Train Loss: 0.0600, Val Loss: 1.5746, Val Accuracy: 62.84%\n"
          ]
        },
        {
          "output_type": "stream",
          "name": "stderr",
          "text": []
        },
        {
          "output_type": "stream",
          "name": "stdout",
          "text": [
            "Epoch 537/600, Train Loss: 0.0578, Val Loss: 1.5745, Val Accuracy: 62.84%\n"
          ]
        },
        {
          "output_type": "stream",
          "name": "stderr",
          "text": []
        },
        {
          "output_type": "stream",
          "name": "stdout",
          "text": [
            "Epoch 538/600, Train Loss: 0.0594, Val Loss: 1.5724, Val Accuracy: 62.55%\n"
          ]
        },
        {
          "output_type": "stream",
          "name": "stderr",
          "text": []
        },
        {
          "output_type": "stream",
          "name": "stdout",
          "text": [
            "Epoch 539/600, Train Loss: 0.0575, Val Loss: 1.5704, Val Accuracy: 64.22%\n"
          ]
        },
        {
          "output_type": "stream",
          "name": "stderr",
          "text": []
        },
        {
          "output_type": "stream",
          "name": "stdout",
          "text": [
            "Epoch 540/600, Train Loss: 0.0608, Val Loss: 1.5846, Val Accuracy: 63.14%\n"
          ]
        },
        {
          "output_type": "stream",
          "name": "stderr",
          "text": []
        },
        {
          "output_type": "stream",
          "name": "stdout",
          "text": [
            "Epoch 541/600, Train Loss: 0.0587, Val Loss: 1.5867, Val Accuracy: 63.24%\n"
          ]
        },
        {
          "output_type": "stream",
          "name": "stderr",
          "text": []
        },
        {
          "output_type": "stream",
          "name": "stdout",
          "text": [
            "Epoch 542/600, Train Loss: 0.0598, Val Loss: 1.5620, Val Accuracy: 64.71%\n",
            "Saved Best Model with Validation Accuracy: 64.71%\n"
          ]
        },
        {
          "output_type": "stream",
          "name": "stderr",
          "text": []
        },
        {
          "output_type": "stream",
          "name": "stdout",
          "text": [
            "Epoch 543/600, Train Loss: 0.0614, Val Loss: 1.5725, Val Accuracy: 65.00%\n",
            "Saved Best Model with Validation Accuracy: 65.00%\n"
          ]
        },
        {
          "output_type": "stream",
          "name": "stderr",
          "text": []
        },
        {
          "output_type": "stream",
          "name": "stdout",
          "text": [
            "Epoch 544/600, Train Loss: 0.0587, Val Loss: 1.5912, Val Accuracy: 63.92%\n"
          ]
        },
        {
          "output_type": "stream",
          "name": "stderr",
          "text": []
        },
        {
          "output_type": "stream",
          "name": "stdout",
          "text": [
            "Epoch 545/600, Train Loss: 0.0617, Val Loss: 1.5794, Val Accuracy: 64.90%\n"
          ]
        },
        {
          "output_type": "stream",
          "name": "stderr",
          "text": []
        },
        {
          "output_type": "stream",
          "name": "stdout",
          "text": [
            "Epoch 546/600, Train Loss: 0.0621, Val Loss: 1.5831, Val Accuracy: 63.43%\n"
          ]
        },
        {
          "output_type": "stream",
          "name": "stderr",
          "text": []
        },
        {
          "output_type": "stream",
          "name": "stdout",
          "text": [
            "Epoch 547/600, Train Loss: 0.0643, Val Loss: 1.5781, Val Accuracy: 64.41%\n"
          ]
        },
        {
          "output_type": "stream",
          "name": "stderr",
          "text": []
        },
        {
          "output_type": "stream",
          "name": "stdout",
          "text": [
            "Epoch 548/600, Train Loss: 0.0610, Val Loss: 1.6114, Val Accuracy: 63.04%\n"
          ]
        },
        {
          "output_type": "stream",
          "name": "stderr",
          "text": []
        },
        {
          "output_type": "stream",
          "name": "stdout",
          "text": [
            "Epoch 549/600, Train Loss: 0.0603, Val Loss: 1.5866, Val Accuracy: 64.12%\n"
          ]
        },
        {
          "output_type": "stream",
          "name": "stderr",
          "text": []
        },
        {
          "output_type": "stream",
          "name": "stdout",
          "text": [
            "Epoch 550/600, Train Loss: 0.0630, Val Loss: 1.5991, Val Accuracy: 65.29%\n",
            "Saved Best Model with Validation Accuracy: 65.29%\n"
          ]
        },
        {
          "output_type": "stream",
          "name": "stderr",
          "text": []
        },
        {
          "output_type": "stream",
          "name": "stdout",
          "text": [
            "Epoch 551/600, Train Loss: 0.0679, Val Loss: 1.6176, Val Accuracy: 62.65%\n"
          ]
        },
        {
          "output_type": "stream",
          "name": "stderr",
          "text": []
        },
        {
          "output_type": "stream",
          "name": "stdout",
          "text": [
            "Epoch 552/600, Train Loss: 0.0619, Val Loss: 1.5582, Val Accuracy: 64.22%\n"
          ]
        },
        {
          "output_type": "stream",
          "name": "stderr",
          "text": []
        },
        {
          "output_type": "stream",
          "name": "stdout",
          "text": [
            "Epoch 553/600, Train Loss: 0.0640, Val Loss: 1.6317, Val Accuracy: 62.75%\n"
          ]
        },
        {
          "output_type": "stream",
          "name": "stderr",
          "text": []
        },
        {
          "output_type": "stream",
          "name": "stdout",
          "text": [
            "Epoch 554/600, Train Loss: 0.0685, Val Loss: 1.6416, Val Accuracy: 62.45%\n"
          ]
        },
        {
          "output_type": "stream",
          "name": "stderr",
          "text": []
        },
        {
          "output_type": "stream",
          "name": "stdout",
          "text": [
            "Epoch 555/600, Train Loss: 0.0803, Val Loss: 1.7792, Val Accuracy: 58.63%\n"
          ]
        },
        {
          "output_type": "stream",
          "name": "stderr",
          "text": []
        },
        {
          "output_type": "stream",
          "name": "stdout",
          "text": [
            "Epoch 556/600, Train Loss: 0.1365, Val Loss: 2.1033, Val Accuracy: 51.76%\n"
          ]
        },
        {
          "output_type": "stream",
          "name": "stderr",
          "text": []
        },
        {
          "output_type": "stream",
          "name": "stdout",
          "text": [
            "Epoch 557/600, Train Loss: 0.3107, Val Loss: 2.7515, Val Accuracy: 40.88%\n"
          ]
        },
        {
          "output_type": "stream",
          "name": "stderr",
          "text": []
        },
        {
          "output_type": "stream",
          "name": "stdout",
          "text": [
            "Epoch 558/600, Train Loss: 0.4431, Val Loss: 2.5938, Val Accuracy: 45.20%\n"
          ]
        },
        {
          "output_type": "stream",
          "name": "stderr",
          "text": []
        },
        {
          "output_type": "stream",
          "name": "stdout",
          "text": [
            "Epoch 559/600, Train Loss: 0.2498, Val Loss: 2.7411, Val Accuracy: 40.88%\n"
          ]
        },
        {
          "output_type": "stream",
          "name": "stderr",
          "text": []
        },
        {
          "output_type": "stream",
          "name": "stdout",
          "text": [
            "Epoch 560/600, Train Loss: 0.1435, Val Loss: 1.8389, Val Accuracy: 57.35%\n"
          ]
        },
        {
          "output_type": "stream",
          "name": "stderr",
          "text": []
        },
        {
          "output_type": "stream",
          "name": "stdout",
          "text": [
            "Epoch 561/600, Train Loss: 0.0950, Val Loss: 1.7414, Val Accuracy: 60.10%\n"
          ]
        },
        {
          "output_type": "stream",
          "name": "stderr",
          "text": []
        },
        {
          "output_type": "stream",
          "name": "stdout",
          "text": [
            "Epoch 562/600, Train Loss: 0.0676, Val Loss: 1.6541, Val Accuracy: 61.37%\n"
          ]
        },
        {
          "output_type": "stream",
          "name": "stderr",
          "text": []
        },
        {
          "output_type": "stream",
          "name": "stdout",
          "text": [
            "Epoch 563/600, Train Loss: 0.0635, Val Loss: 1.6007, Val Accuracy: 62.75%\n"
          ]
        },
        {
          "output_type": "stream",
          "name": "stderr",
          "text": []
        },
        {
          "output_type": "stream",
          "name": "stdout",
          "text": [
            "Epoch 564/600, Train Loss: 0.0618, Val Loss: 1.5953, Val Accuracy: 62.94%\n"
          ]
        },
        {
          "output_type": "stream",
          "name": "stderr",
          "text": []
        },
        {
          "output_type": "stream",
          "name": "stdout",
          "text": [
            "Epoch 565/600, Train Loss: 0.0639, Val Loss: 1.5973, Val Accuracy: 63.24%\n"
          ]
        },
        {
          "output_type": "stream",
          "name": "stderr",
          "text": []
        },
        {
          "output_type": "stream",
          "name": "stdout",
          "text": [
            "Epoch 566/600, Train Loss: 0.0598, Val Loss: 1.6078, Val Accuracy: 63.43%\n"
          ]
        },
        {
          "output_type": "stream",
          "name": "stderr",
          "text": []
        },
        {
          "output_type": "stream",
          "name": "stdout",
          "text": [
            "Epoch 567/600, Train Loss: 0.0599, Val Loss: 1.5930, Val Accuracy: 63.63%\n"
          ]
        },
        {
          "output_type": "stream",
          "name": "stderr",
          "text": []
        },
        {
          "output_type": "stream",
          "name": "stdout",
          "text": [
            "Epoch 568/600, Train Loss: 0.0595, Val Loss: 1.5853, Val Accuracy: 62.84%\n"
          ]
        },
        {
          "output_type": "stream",
          "name": "stderr",
          "text": []
        },
        {
          "output_type": "stream",
          "name": "stdout",
          "text": [
            "Epoch 569/600, Train Loss: 0.0622, Val Loss: 1.5853, Val Accuracy: 63.82%\n"
          ]
        },
        {
          "output_type": "stream",
          "name": "stderr",
          "text": []
        },
        {
          "output_type": "stream",
          "name": "stdout",
          "text": [
            "Epoch 570/600, Train Loss: 0.0583, Val Loss: 1.5703, Val Accuracy: 62.65%\n"
          ]
        },
        {
          "output_type": "stream",
          "name": "stderr",
          "text": []
        },
        {
          "output_type": "stream",
          "name": "stdout",
          "text": [
            "Epoch 571/600, Train Loss: 0.0585, Val Loss: 1.5691, Val Accuracy: 64.90%\n"
          ]
        },
        {
          "output_type": "stream",
          "name": "stderr",
          "text": []
        },
        {
          "output_type": "stream",
          "name": "stdout",
          "text": [
            "Epoch 572/600, Train Loss: 0.0617, Val Loss: 1.5872, Val Accuracy: 63.82%\n"
          ]
        },
        {
          "output_type": "stream",
          "name": "stderr",
          "text": []
        },
        {
          "output_type": "stream",
          "name": "stdout",
          "text": [
            "Epoch 573/600, Train Loss: 0.0592, Val Loss: 1.5696, Val Accuracy: 64.31%\n"
          ]
        },
        {
          "output_type": "stream",
          "name": "stderr",
          "text": []
        },
        {
          "output_type": "stream",
          "name": "stdout",
          "text": [
            "Epoch 574/600, Train Loss: 0.0603, Val Loss: 1.5628, Val Accuracy: 63.14%\n"
          ]
        },
        {
          "output_type": "stream",
          "name": "stderr",
          "text": []
        },
        {
          "output_type": "stream",
          "name": "stdout",
          "text": [
            "Epoch 575/600, Train Loss: 0.0574, Val Loss: 1.5696, Val Accuracy: 64.51%\n"
          ]
        },
        {
          "output_type": "stream",
          "name": "stderr",
          "text": []
        },
        {
          "output_type": "stream",
          "name": "stdout",
          "text": [
            "Epoch 576/600, Train Loss: 0.0590, Val Loss: 1.5726, Val Accuracy: 63.73%\n"
          ]
        },
        {
          "output_type": "stream",
          "name": "stderr",
          "text": []
        },
        {
          "output_type": "stream",
          "name": "stdout",
          "text": [
            "Epoch 577/600, Train Loss: 0.0570, Val Loss: 1.5506, Val Accuracy: 64.41%\n"
          ]
        },
        {
          "output_type": "stream",
          "name": "stderr",
          "text": []
        },
        {
          "output_type": "stream",
          "name": "stdout",
          "text": [
            "Epoch 578/600, Train Loss: 0.0620, Val Loss: 1.5718, Val Accuracy: 63.43%\n"
          ]
        },
        {
          "output_type": "stream",
          "name": "stderr",
          "text": []
        },
        {
          "output_type": "stream",
          "name": "stdout",
          "text": [
            "Epoch 579/600, Train Loss: 0.0580, Val Loss: 1.5657, Val Accuracy: 65.29%\n"
          ]
        },
        {
          "output_type": "stream",
          "name": "stderr",
          "text": []
        },
        {
          "output_type": "stream",
          "name": "stdout",
          "text": [
            "Epoch 580/600, Train Loss: 0.0592, Val Loss: 1.5742, Val Accuracy: 64.12%\n"
          ]
        },
        {
          "output_type": "stream",
          "name": "stderr",
          "text": []
        },
        {
          "output_type": "stream",
          "name": "stdout",
          "text": [
            "Epoch 581/600, Train Loss: 0.0607, Val Loss: 1.5994, Val Accuracy: 62.94%\n"
          ]
        },
        {
          "output_type": "stream",
          "name": "stderr",
          "text": []
        },
        {
          "output_type": "stream",
          "name": "stdout",
          "text": [
            "Epoch 582/600, Train Loss: 0.0599, Val Loss: 1.5708, Val Accuracy: 63.82%\n"
          ]
        },
        {
          "output_type": "stream",
          "name": "stderr",
          "text": []
        },
        {
          "output_type": "stream",
          "name": "stdout",
          "text": [
            "Epoch 583/600, Train Loss: 0.0670, Val Loss: 1.5600, Val Accuracy: 65.39%\n",
            "Saved Best Model with Validation Accuracy: 65.39%\n"
          ]
        },
        {
          "output_type": "stream",
          "name": "stderr",
          "text": []
        },
        {
          "output_type": "stream",
          "name": "stdout",
          "text": [
            "Epoch 584/600, Train Loss: 0.0605, Val Loss: 1.5918, Val Accuracy: 63.82%\n"
          ]
        },
        {
          "output_type": "stream",
          "name": "stderr",
          "text": []
        },
        {
          "output_type": "stream",
          "name": "stdout",
          "text": [
            "Epoch 585/600, Train Loss: 0.0597, Val Loss: 1.5948, Val Accuracy: 63.43%\n"
          ]
        },
        {
          "output_type": "stream",
          "name": "stderr",
          "text": []
        },
        {
          "output_type": "stream",
          "name": "stdout",
          "text": [
            "Epoch 586/600, Train Loss: 0.0684, Val Loss: 1.6413, Val Accuracy: 63.63%\n"
          ]
        },
        {
          "output_type": "stream",
          "name": "stderr",
          "text": []
        },
        {
          "output_type": "stream",
          "name": "stdout",
          "text": [
            "Epoch 587/600, Train Loss: 0.0685, Val Loss: 1.5980, Val Accuracy: 62.84%\n"
          ]
        },
        {
          "output_type": "stream",
          "name": "stderr",
          "text": []
        },
        {
          "output_type": "stream",
          "name": "stdout",
          "text": [
            "Epoch 588/600, Train Loss: 0.0699, Val Loss: 1.6908, Val Accuracy: 60.78%\n"
          ]
        },
        {
          "output_type": "stream",
          "name": "stderr",
          "text": []
        },
        {
          "output_type": "stream",
          "name": "stdout",
          "text": [
            "Epoch 589/600, Train Loss: 0.0701, Val Loss: 1.6021, Val Accuracy: 63.92%\n"
          ]
        },
        {
          "output_type": "stream",
          "name": "stderr",
          "text": []
        },
        {
          "output_type": "stream",
          "name": "stdout",
          "text": [
            "Epoch 590/600, Train Loss: 0.1052, Val Loss: 1.9364, Val Accuracy: 55.59%\n"
          ]
        },
        {
          "output_type": "stream",
          "name": "stderr",
          "text": []
        },
        {
          "output_type": "stream",
          "name": "stdout",
          "text": [
            "Epoch 591/600, Train Loss: 0.2090, Val Loss: 2.4893, Val Accuracy: 45.49%\n"
          ]
        },
        {
          "output_type": "stream",
          "name": "stderr",
          "text": []
        },
        {
          "output_type": "stream",
          "name": "stdout",
          "text": [
            "Epoch 592/600, Train Loss: 0.3064, Val Loss: 2.8375, Val Accuracy: 40.39%\n"
          ]
        },
        {
          "output_type": "stream",
          "name": "stderr",
          "text": []
        },
        {
          "output_type": "stream",
          "name": "stdout",
          "text": [
            "Epoch 593/600, Train Loss: 0.4015, Val Loss: 2.6519, Val Accuracy: 43.82%\n"
          ]
        },
        {
          "output_type": "stream",
          "name": "stderr",
          "text": []
        },
        {
          "output_type": "stream",
          "name": "stdout",
          "text": [
            "Epoch 594/600, Train Loss: 0.3334, Val Loss: 2.0805, Val Accuracy: 51.67%\n"
          ]
        },
        {
          "output_type": "stream",
          "name": "stderr",
          "text": []
        },
        {
          "output_type": "stream",
          "name": "stdout",
          "text": [
            "Epoch 595/600, Train Loss: 0.1597, Val Loss: 1.8569, Val Accuracy: 55.29%\n"
          ]
        },
        {
          "output_type": "stream",
          "name": "stderr",
          "text": []
        },
        {
          "output_type": "stream",
          "name": "stdout",
          "text": [
            "Epoch 596/600, Train Loss: 0.0931, Val Loss: 1.6803, Val Accuracy: 58.92%\n"
          ]
        },
        {
          "output_type": "stream",
          "name": "stderr",
          "text": []
        },
        {
          "output_type": "stream",
          "name": "stdout",
          "text": [
            "Epoch 597/600, Train Loss: 0.0638, Val Loss: 1.6018, Val Accuracy: 61.08%\n"
          ]
        },
        {
          "output_type": "stream",
          "name": "stderr",
          "text": []
        },
        {
          "output_type": "stream",
          "name": "stdout",
          "text": [
            "Epoch 598/600, Train Loss: 0.0626, Val Loss: 1.5802, Val Accuracy: 62.35%\n"
          ]
        },
        {
          "output_type": "stream",
          "name": "stderr",
          "text": []
        },
        {
          "output_type": "stream",
          "name": "stdout",
          "text": [
            "Epoch 599/600, Train Loss: 0.0601, Val Loss: 1.5821, Val Accuracy: 63.53%\n"
          ]
        },
        {
          "output_type": "stream",
          "name": "stderr",
          "text": []
        },
        {
          "output_type": "stream",
          "name": "stdout",
          "text": [
            "Epoch 600/600, Train Loss: 0.0628, Val Loss: 1.5701, Val Accuracy: 63.43%\n",
            "Final Test Loss: 1.7609, Final Test Accuracy: 60.40%\n"
          ]
        }
      ]
    }
  ]
}